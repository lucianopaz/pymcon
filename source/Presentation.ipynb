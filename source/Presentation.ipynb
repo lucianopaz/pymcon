{
 "cells": [
  {
   "cell_type": "markdown",
   "metadata": {
    "slideshow": {
     "slide_type": "slide"
    }
   },
   "source": [
    "# Planning phase\n",
    "\n",
    "## Goals\n",
    "\n",
    "1. Present the recommended way of doing posterior predictive sampling (`pm.Data`)\n",
    "2. Some caveats of using `theano.shared`\n",
    "3. Present the way that uses factory functions\n",
    "4. How to handle cases with inferred cluster labels that should be removed.\n",
    "\n",
    "## Presentation skeleton\n",
    "\n",
    "0. Personal introduction\n",
    "1. Describe some small problems where you need to make predictions\n",
    "2. Talk about forward sampling and what predictions mean in the context of MCMC posterior approximations\n",
    "3. Introduce the default way with `pm.Data`, `set_value` and `sample_posterior_predictive`\n",
    "4. Show a situation where the default breaks\n",
    "5. Take a peek into the depths of `random` -> `draw_values` -> `random`\n",
    "6. _Don't kid yourself Jimmy, if a shape problem ever got the chance it would eat you and everyone you cared about_\n",
    "7. How does pymc4 do things?\n",
    "8. Can we do the same with pymc3? Yes, with factory functions for models\n",
    "9. But these also fail for models where the inferred labels depend on the data\n",
    "10. Take the bad weed out of the trace to allow for posterior predictive sampling\n",
    "11. Can this process be automated? Yes, but we need a better graph representation of the model\n",
    "12. Call for contributions with symbolic stuff"
   ]
  },
  {
   "cell_type": "markdown",
   "metadata": {
    "slideshow": {
     "slide_type": "slide"
    }
   },
   "source": [
    "Slide 1"
   ]
  },
  {
   "cell_type": "markdown",
   "metadata": {
    "slideshow": {
     "slide_type": "slide"
    }
   },
   "source": [
    "Slide 2"
   ]
  },
  {
   "cell_type": "code",
   "execution_count": 1,
   "metadata": {
    "slideshow": {
     "slide_type": "subslide"
    }
   },
   "outputs": [
    {
     "data": {
      "text/plain": [
       "1"
      ]
     },
     "execution_count": 1,
     "metadata": {},
     "output_type": "execute_result"
    }
   ],
   "source": [
    "# Slide 2?\n",
    "a = 1\n",
    "a"
   ]
  },
  {
   "cell_type": "code",
   "execution_count": 2,
   "metadata": {
    "slideshow": {
     "slide_type": "fragment"
    }
   },
   "outputs": [
    {
     "data": {
      "text/plain": [
       "3"
      ]
     },
     "execution_count": 2,
     "metadata": {},
     "output_type": "execute_result"
    }
   ],
   "source": [
    "b = 2\n",
    "a + b"
   ]
  },
  {
   "cell_type": "code",
   "execution_count": 3,
   "metadata": {
    "slideshow": {
     "slide_type": "fragment"
    }
   },
   "outputs": [
    {
     "data": {
      "text/plain": [
       "3"
      ]
     },
     "execution_count": 3,
     "metadata": {},
     "output_type": "execute_result"
    }
   ],
   "source": [
    "fragment = a + b\n",
    "fragment"
   ]
  },
  {
   "cell_type": "markdown",
   "metadata": {
    "slideshow": {
     "slide_type": "notes"
    }
   },
   "source": [
    "This wont be in the presentation"
   ]
  },
  {
   "cell_type": "markdown",
   "metadata": {
    "slideshow": {
     "slide_type": "skip"
    }
   },
   "source": [
    "What's the difference between skipping and noting?"
   ]
  },
  {
   "cell_type": "markdown",
   "metadata": {
    "slideshow": {
     "slide_type": "slide"
    }
   },
   "source": [
    "Slide 3"
   ]
  }
 ],
 "metadata": {
  "celltoolbar": "Slideshow",
  "kernelspec": {
   "display_name": "Python 3",
   "language": "python",
   "name": "python3"
  },
  "language_info": {
   "codemirror_mode": {
    "name": "ipython",
    "version": 3
   },
   "file_extension": ".py",
   "mimetype": "text/x-python",
   "name": "python",
   "nbconvert_exporter": "python",
   "pygments_lexer": "ipython3",
   "version": "3.7.6"
  }
 },
 "nbformat": 4,
 "nbformat_minor": 4
}
