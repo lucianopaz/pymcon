{
 "cells": [
  {
   "cell_type": "markdown",
   "metadata": {
    "slideshow": {
     "slide_type": "slide"
    }
   },
   "source": [
    "# Planning phase\n",
    "\n",
    "## Goals\n",
    "\n",
    "1. Present the recommended way of doing posterior predictive sampling (`pm.Data`)\n",
    "2. Some caveats of using `theano.shared`\n",
    "3. Present the way that uses factory functions\n",
    "4. How to handle cases with inferred cluster labels that should be removed.\n",
    "\n",
    "## Presentation skeleton\n",
    "\n",
    "0. Personal introduction\n",
    "1. Describe some small problems where you need to make predictions\n",
    "2. Talk about forward sampling and what predictions mean in the context of MCMC posterior approximations\n",
    "3. Introduce the default way with `pm.Data`, `set_value` and `sample_posterior_predictive`\n",
    "4. Show a situation where the default breaks\n",
    "5. Take a peek into the depths of `random` -> `draw_values` -> `random`\n",
    "6. _Don't kid yourself Jimmy, if a shape problem ever got the chance it would eat you and everyone you cared about_\n",
    "7. How does pymc4 do things?\n",
    "8. Can we do the same with pymc3? Yes, with factory functions for models\n",
    "9. But these also fail for models where the inferred labels depend on the data\n",
    "10. Take the bad weed out of the trace to allow for posterior predictive sampling\n",
    "11. Can this process be automated? Yes, but we need a better graph representation of the model\n",
    "12. Call for contributions with symbolic stuff"
   ]
  },
  {
   "cell_type": "code",
   "execution_count": 1,
   "metadata": {
    "slideshow": {
     "slide_type": "skip"
    }
   },
   "outputs": [],
   "source": [
    "import numpy as np\n",
    "from theano import tensor as tt\n",
    "import pymc3 as pm\n",
    "import arviz as az\n",
    "from matplotlib import pyplot as plt"
   ]
  },
  {
   "cell_type": "markdown",
   "metadata": {
    "slideshow": {
     "slide_type": "slide"
    }
   },
   "source": [
    "## Simple model without posterior predictive problems"
   ]
  },
  {
   "cell_type": "code",
   "execution_count": 2,
   "metadata": {
    "slideshow": {
     "slide_type": "fragment"
    }
   },
   "outputs": [],
   "source": [
    "true_slope = 1\n",
    "true_intercept = 5"
   ]
  },
  {
   "cell_type": "code",
   "execution_count": 3,
   "metadata": {
    "slideshow": {
     "slide_type": "fragment"
    }
   },
   "outputs": [],
   "source": [
    "x_train1 = np.linspace(-1, 2, 21)\n",
    "y_train1 = (\n",
    "    true_slope * x_train1 +\n",
    "    true_intercept +\n",
    "    np.random.randn(*x_train1.shape)\n",
    ")"
   ]
  },
  {
   "cell_type": "code",
   "execution_count": 4,
   "metadata": {
    "slideshow": {
     "slide_type": "fragment"
    }
   },
   "outputs": [],
   "source": [
    "x_test1 = np.linspace(-3, 5, 10)\n",
    "y_test1 = (\n",
    "    true_slope * x_test1 +\n",
    "    true_intercept +\n",
    "    np.random.randn(*x_test1.shape)\n",
    ")"
   ]
  },
  {
   "cell_type": "code",
   "execution_count": 5,
   "metadata": {
    "slideshow": {
     "slide_type": "fragment"
    }
   },
   "outputs": [],
   "source": [
    "coords1 = {\"obs_ind\": np.arange(len(x_train1))}"
   ]
  },
  {
   "cell_type": "code",
   "execution_count": 6,
   "metadata": {
    "slideshow": {
     "slide_type": "slide"
    }
   },
   "outputs": [
    {
     "name": "stderr",
     "output_type": "stream",
     "text": [
      "Auto-assigning NUTS sampler...\n",
      "Initializing NUTS using jitter+adapt_diag...\n",
      "Multiprocess sampling (2 chains in 2 jobs)\n",
      "NUTS: [intercept, slope]\n"
     ]
    },
    {
     "data": {
      "text/html": [
       "\n",
       "    <div>\n",
       "        <style>\n",
       "            /* Turns off some styling */\n",
       "            progress {\n",
       "                /* gets rid of default border in Firefox and Opera. */\n",
       "                border: none;\n",
       "                /* Needs to be in here for Safari polyfill so background images work as expected. */\n",
       "                background-size: auto;\n",
       "            }\n",
       "            .progress-bar-interrupted, .progress-bar-interrupted::-webkit-progress-bar {\n",
       "                background: #F44336;\n",
       "            }\n",
       "        </style>\n",
       "      <progress value='6000' class='' max='6000', style='width:300px; height:20px; vertical-align: middle;'></progress>\n",
       "      100.00% [6000/6000 00:03<00:00 Sampling 2 chains, 0 divergences]\n",
       "    </div>\n",
       "    "
      ],
      "text/plain": [
       "<IPython.core.display.HTML object>"
      ]
     },
     "metadata": {},
     "output_type": "display_data"
    },
    {
     "name": "stderr",
     "output_type": "stream",
     "text": [
      "Sampling 2 chains for 2_000 tune and 1_000 draw iterations (4_000 + 2_000 draws total) took 4 seconds.\n",
      "The acceptance probability does not match the target. It is 0.8787803599806036, but should be close to 0.8. Try to increase the number of tuning steps.\n"
     ]
    }
   ],
   "source": [
    "with pm.Model(coords=coords1) as simple_model:\n",
    "    regressor = pm.Data(\"x\", x_train1, dims=\"obs_ind\")\n",
    "    slope = pm.Normal(\"slope\", 0, 10)\n",
    "    intercept = pm.Normal(\"intercept\", 0, 10)\n",
    "    mu = slope * regressor + intercept\n",
    "    output = pm.Data(\"y\", y_train1)\n",
    "    pm.Normal(\"observed\", mu=mu, sigma=1, observed=output, dims=\"obs_ind\")\n",
    "    \n",
    "    prior = pm.sample_prior_predictive()\n",
    "    trace = pm.sample(tune=2000)\n",
    "    ppc = pm.fast_sample_posterior_predictive(trace)\n",
    "    simple_idata = az.from_pymc3(trace=trace, prior=prior, posterior_predictive=ppc)"
   ]
  },
  {
   "cell_type": "code",
   "execution_count": 7,
   "metadata": {
    "slideshow": {
     "slide_type": "subslide"
    }
   },
   "outputs": [
    {
     "data": {
      "image/svg+xml": [
       "<?xml version=\"1.0\" encoding=\"UTF-8\" standalone=\"no\"?>\n",
       "<!DOCTYPE svg PUBLIC \"-//W3C//DTD SVG 1.1//EN\"\n",
       " \"http://www.w3.org/Graphics/SVG/1.1/DTD/svg11.dtd\">\n",
       "<!-- Generated by graphviz version 2.40.1 (20161225.0304)\n",
       " -->\n",
       "<!-- Title: %3 Pages: 1 -->\n",
       "<svg width=\"324pt\" height=\"327pt\"\n",
       " viewBox=\"0.00 0.00 323.72 326.93\" xmlns=\"http://www.w3.org/2000/svg\" xmlns:xlink=\"http://www.w3.org/1999/xlink\">\n",
       "<g id=\"graph0\" class=\"graph\" transform=\"scale(1 1) rotate(0) translate(4 322.93)\">\n",
       "<title>%3</title>\n",
       "<polygon fill=\"#ffffff\" stroke=\"transparent\" points=\"-4,4 -4,-322.93 319.7193,-322.93 319.7193,4 -4,4\"/>\n",
       "<g id=\"clust1\" class=\"cluster\">\n",
       "<title>cluster21</title>\n",
       "<path fill=\"none\" stroke=\"#000000\" d=\"M20,-8C20,-8 104,-8 104,-8 110,-8 116,-14 116,-20 116,-20 116,-298.93 116,-298.93 116,-304.93 110,-310.93 104,-310.93 104,-310.93 20,-310.93 20,-310.93 14,-310.93 8,-304.93 8,-298.93 8,-298.93 8,-20 8,-20 8,-14 14,-8 20,-8\"/>\n",
       "<text text-anchor=\"middle\" x=\"101\" y=\"-15.8\" font-family=\"Times,serif\" font-size=\"14.00\" fill=\"#000000\">21</text>\n",
       "</g>\n",
       "<!-- y -->\n",
       "<g id=\"node1\" class=\"node\">\n",
       "<title>y</title>\n",
       "<path fill=\"#d3d3d3\" stroke=\"#000000\" d=\"M77,-92C77,-92 47,-92 47,-92 41,-92 35,-86 35,-80 35,-80 35,-51 35,-51 35,-45 41,-39 47,-39 47,-39 77,-39 77,-39 83,-39 89,-45 89,-51 89,-51 89,-80 89,-80 89,-86 83,-92 77,-92\"/>\n",
       "<text text-anchor=\"middle\" x=\"62\" y=\"-76.8\" font-family=\"Times,serif\" font-size=\"14.00\" fill=\"#000000\">y</text>\n",
       "<text text-anchor=\"middle\" x=\"62\" y=\"-61.8\" font-family=\"Times,serif\" font-size=\"14.00\" fill=\"#000000\">~</text>\n",
       "<text text-anchor=\"middle\" x=\"62\" y=\"-46.8\" font-family=\"Times,serif\" font-size=\"14.00\" fill=\"#000000\">Data</text>\n",
       "</g>\n",
       "<!-- x -->\n",
       "<g id=\"node2\" class=\"node\">\n",
       "<title>x</title>\n",
       "<path fill=\"#d3d3d3\" stroke=\"#000000\" d=\"M77,-302.93C77,-302.93 47,-302.93 47,-302.93 41,-302.93 35,-296.93 35,-290.93 35,-290.93 35,-261.93 35,-261.93 35,-255.93 41,-249.93 47,-249.93 47,-249.93 77,-249.93 77,-249.93 83,-249.93 89,-255.93 89,-261.93 89,-261.93 89,-290.93 89,-290.93 89,-296.93 83,-302.93 77,-302.93\"/>\n",
       "<text text-anchor=\"middle\" x=\"62\" y=\"-287.73\" font-family=\"Times,serif\" font-size=\"14.00\" fill=\"#000000\">x</text>\n",
       "<text text-anchor=\"middle\" x=\"62\" y=\"-272.73\" font-family=\"Times,serif\" font-size=\"14.00\" fill=\"#000000\">~</text>\n",
       "<text text-anchor=\"middle\" x=\"62\" y=\"-257.73\" font-family=\"Times,serif\" font-size=\"14.00\" fill=\"#000000\">Data</text>\n",
       "</g>\n",
       "<!-- observed -->\n",
       "<g id=\"node3\" class=\"node\">\n",
       "<title>observed</title>\n",
       "<ellipse fill=\"#d3d3d3\" stroke=\"#000000\" cx=\"62\" cy=\"-165.4767\" rx=\"45.9239\" ry=\"37.4533\"/>\n",
       "<text text-anchor=\"middle\" x=\"62\" y=\"-176.7767\" font-family=\"Times,serif\" font-size=\"14.00\" fill=\"#000000\">observed</text>\n",
       "<text text-anchor=\"middle\" x=\"62\" y=\"-161.7767\" font-family=\"Times,serif\" font-size=\"14.00\" fill=\"#000000\">~</text>\n",
       "<text text-anchor=\"middle\" x=\"62\" y=\"-146.7767\" font-family=\"Times,serif\" font-size=\"14.00\" fill=\"#000000\">Normal</text>\n",
       "</g>\n",
       "<!-- x&#45;&gt;observed -->\n",
       "<g id=\"edge3\" class=\"edge\">\n",
       "<title>x&#45;&gt;observed</title>\n",
       "<path fill=\"none\" stroke=\"#000000\" d=\"M62,-249.8539C62,-238.9351 62,-225.944 62,-213.4675\"/>\n",
       "<polygon fill=\"#000000\" stroke=\"#000000\" points=\"65.5001,-213.1649 62,-203.165 58.5001,-213.165 65.5001,-213.1649\"/>\n",
       "</g>\n",
       "<!-- observed&#45;&gt;y -->\n",
       "<g id=\"edge1\" class=\"edge\">\n",
       "<title>observed&#45;&gt;y</title>\n",
       "<path fill=\"none\" stroke=\"#000000\" d=\"M62,-127.9646C62,-119.6275 62,-110.7957 62,-102.4801\"/>\n",
       "<polygon fill=\"#000000\" stroke=\"#000000\" points=\"65.5001,-102.2991 62,-92.2991 58.5001,-102.2991 65.5001,-102.2991\"/>\n",
       "</g>\n",
       "<!-- intercept -->\n",
       "<g id=\"node4\" class=\"node\">\n",
       "<title>intercept</title>\n",
       "<ellipse fill=\"none\" stroke=\"#000000\" cx=\"169\" cy=\"-276.43\" rx=\"45.011\" ry=\"37.4533\"/>\n",
       "<text text-anchor=\"middle\" x=\"169\" y=\"-287.73\" font-family=\"Times,serif\" font-size=\"14.00\" fill=\"#000000\">intercept</text>\n",
       "<text text-anchor=\"middle\" x=\"169\" y=\"-272.73\" font-family=\"Times,serif\" font-size=\"14.00\" fill=\"#000000\">~</text>\n",
       "<text text-anchor=\"middle\" x=\"169\" y=\"-257.73\" font-family=\"Times,serif\" font-size=\"14.00\" fill=\"#000000\">Normal</text>\n",
       "</g>\n",
       "<!-- intercept&#45;&gt;observed -->\n",
       "<g id=\"edge2\" class=\"edge\">\n",
       "<title>intercept&#45;&gt;observed</title>\n",
       "<path fill=\"none\" stroke=\"#000000\" d=\"M140.6069,-246.9878C127.4263,-233.3202 111.6162,-216.9261 97.6423,-202.4358\"/>\n",
       "<polygon fill=\"#000000\" stroke=\"#000000\" points=\"99.9869,-199.825 90.5258,-195.0564 94.9481,-204.6842 99.9869,-199.825\"/>\n",
       "</g>\n",
       "<!-- slope -->\n",
       "<g id=\"node5\" class=\"node\">\n",
       "<title>slope</title>\n",
       "<ellipse fill=\"none\" stroke=\"#000000\" cx=\"274\" cy=\"-276.43\" rx=\"41.9398\" ry=\"37.4533\"/>\n",
       "<text text-anchor=\"middle\" x=\"274\" y=\"-287.73\" font-family=\"Times,serif\" font-size=\"14.00\" fill=\"#000000\">slope</text>\n",
       "<text text-anchor=\"middle\" x=\"274\" y=\"-272.73\" font-family=\"Times,serif\" font-size=\"14.00\" fill=\"#000000\">~</text>\n",
       "<text text-anchor=\"middle\" x=\"274\" y=\"-257.73\" font-family=\"Times,serif\" font-size=\"14.00\" fill=\"#000000\">Normal</text>\n",
       "</g>\n",
       "<!-- slope&#45;&gt;observed -->\n",
       "<g id=\"edge4\" class=\"edge\">\n",
       "<title>slope&#45;&gt;observed</title>\n",
       "<path fill=\"none\" stroke=\"#000000\" d=\"M242.3078,-251.6021C236.0616,-247.1541 229.443,-242.7365 223,-238.9533 187.5517,-218.139 145.1803,-199.0115 112.8046,-185.4929\"/>\n",
       "<polygon fill=\"#000000\" stroke=\"#000000\" points=\"114.1041,-182.2429 103.5255,-181.6573 111.43,-188.712 114.1041,-182.2429\"/>\n",
       "</g>\n",
       "</g>\n",
       "</svg>\n"
      ],
      "text/plain": [
       "<graphviz.dot.Digraph at 0x7fc4746942d0>"
      ]
     },
     "execution_count": 7,
     "metadata": {},
     "output_type": "execute_result"
    }
   ],
   "source": [
    "pm.model_to_graphviz(simple_model)"
   ]
  },
  {
   "cell_type": "code",
   "execution_count": 8,
   "metadata": {
    "slideshow": {
     "slide_type": "subslide"
    }
   },
   "outputs": [
    {
     "data": {
      "image/png": "[encoded data removed]",
      "text/plain": [
       "<Figure size 432x288 with 1 Axes>"
      ]
     },
     "metadata": {
      "needs_background": "light"
     },
     "output_type": "display_data"
    }
   ],
   "source": [
    "fig, ax = plt.subplots(1, 1)\n",
    "ax.plot(x_train1, y_train1, \"-ob\")\n",
    "az.plot_hdi(\n",
    "    x_train1,\n",
    "    simple_idata.posterior_predictive[\"observed\"],\n",
    "    ax=ax,\n",
    "    hdi_prob=0.95,\n",
    ")\n",
    "ax.set_xlabel(\"Regressor value\")\n",
    "ax.set_ylabel(\"Observed\")\n",
    "ax.set_title(\"Predictions on training data\");"
   ]
  },
  {
   "cell_type": "markdown",
   "metadata": {
    "slideshow": {
     "slide_type": "slide"
    }
   },
   "source": [
    "## Lets make some predictions on new data\n",
    "\n",
    "- Added difficulty: test data has different shape than training data"
   ]
  },
  {
   "cell_type": "code",
   "execution_count": 9,
   "metadata": {
    "slideshow": {
     "slide_type": "subslide"
    }
   },
   "outputs": [],
   "source": [
    "with simple_model:\n",
    "    pm.set_data(\n",
    "        dict(\n",
    "            x=x_test1,\n",
    "            y=y_test1,\n",
    "        )\n",
    "    )\n",
    "    ppc2 = pm.fast_sample_posterior_predictive(simple_idata)"
   ]
  },
  {
   "cell_type": "code",
   "execution_count": 10,
   "metadata": {
    "slideshow": {
     "slide_type": "subslide"
    }
   },
   "outputs": [
    {
     "name": "stderr",
     "output_type": "stream",
     "text": [
      "/home/lpaz/anaconda3/lib/python3.7/site-packages/arviz/stats/stats.py:487: FutureWarning: hdi currently interprets 2d data as (draw, shape) but this will change in a future release to (chain, draw) for coherence with other functions\n",
      "  FutureWarning,\n"
     ]
    },
    {
     "data": {
      "image/png": "[encoded data removed]",
      "text/plain": [
       "<Figure size 432x288 with 1 Axes>"
      ]
     },
     "metadata": {
      "needs_background": "light"
     },
     "output_type": "display_data"
    }
   ],
   "source": [
    "fig, ax = plt.subplots(1, 1)\n",
    "ax.plot(x_test1, y_test1, \"-ob\")\n",
    "az.plot_hdi(\n",
    "    x_test1,\n",
    "    ppc2[\"observed\"],\n",
    "    ax=ax,\n",
    "    hdi_prob=0.95,\n",
    ")\n",
    "ax.set_xlabel(\"Regressor value\")\n",
    "ax.set_ylabel(\"Observed\")\n",
    "ax.set_title(\"Predictions on test data\");"
   ]
  },
  {
   "cell_type": "markdown",
   "metadata": {
    "slideshow": {
     "slide_type": "subslide"
    }
   },
   "source": [
    "### A bad omen:"
   ]
  },
  {
   "cell_type": "code",
   "execution_count": 11,
   "metadata": {
    "slideshow": {
     "slide_type": "fragment"
    }
   },
   "outputs": [
    {
     "data": {
      "image/svg+xml": [
       "<?xml version=\"1.0\" encoding=\"UTF-8\" standalone=\"no\"?>\n",
       "<!DOCTYPE svg PUBLIC \"-//W3C//DTD SVG 1.1//EN\"\n",
       " \"http://www.w3.org/Graphics/SVG/1.1/DTD/svg11.dtd\">\n",
       "<!-- Generated by graphviz version 2.40.1 (20161225.0304)\n",
       " -->\n",
       "<!-- Title: %3 Pages: 1 -->\n",
       "<svg width=\"360pt\" height=\"238pt\"\n",
       " viewBox=\"0.00 0.00 359.72 237.95\" xmlns=\"http://www.w3.org/2000/svg\" xmlns:xlink=\"http://www.w3.org/1999/xlink\">\n",
       "<g id=\"graph0\" class=\"graph\" transform=\"scale(1 1) rotate(0) translate(4 233.9533)\">\n",
       "<title>%3</title>\n",
       "<polygon fill=\"#ffffff\" stroke=\"transparent\" points=\"-4,4 -4,-233.9533 355.7193,-233.9533 355.7193,4 -4,4\"/>\n",
       "<g id=\"clust1\" class=\"cluster\">\n",
       "<title>cluster21</title>\n",
       "<path fill=\"none\" stroke=\"#000000\" d=\"M20,-129.9533C20,-129.9533 138,-129.9533 138,-129.9533 144,-129.9533 150,-135.9533 150,-141.9533 150,-141.9533 150,-209.9533 150,-209.9533 150,-215.9533 144,-221.9533 138,-221.9533 138,-221.9533 20,-221.9533 20,-221.9533 14,-221.9533 8,-215.9533 8,-209.9533 8,-209.9533 8,-141.9533 8,-141.9533 8,-135.9533 14,-129.9533 20,-129.9533\"/>\n",
       "<text text-anchor=\"middle\" x=\"135\" y=\"-137.7533\" font-family=\"Times,serif\" font-size=\"14.00\" fill=\"#000000\">21</text>\n",
       "</g>\n",
       "<g id=\"clust2\" class=\"cluster\">\n",
       "<title>cluster10</title>\n",
       "<path fill=\"none\" stroke=\"#000000\" d=\"M118,-8C118,-8 202,-8 202,-8 208,-8 214,-14 214,-20 214,-20 214,-109.9533 214,-109.9533 214,-115.9533 208,-121.9533 202,-121.9533 202,-121.9533 118,-121.9533 118,-121.9533 112,-121.9533 106,-115.9533 106,-109.9533 106,-109.9533 106,-20 106,-20 106,-14 112,-8 118,-8\"/>\n",
       "<text text-anchor=\"middle\" x=\"199\" y=\"-15.8\" font-family=\"Times,serif\" font-size=\"14.00\" fill=\"#000000\">10</text>\n",
       "</g>\n",
       "<!-- y -->\n",
       "<g id=\"node1\" class=\"node\">\n",
       "<title>y</title>\n",
       "<path fill=\"#d3d3d3\" stroke=\"#000000\" d=\"M130,-213.9533C130,-213.9533 100,-213.9533 100,-213.9533 94,-213.9533 88,-207.9533 88,-201.9533 88,-201.9533 88,-172.9533 88,-172.9533 88,-166.9533 94,-160.9533 100,-160.9533 100,-160.9533 130,-160.9533 130,-160.9533 136,-160.9533 142,-166.9533 142,-172.9533 142,-172.9533 142,-201.9533 142,-201.9533 142,-207.9533 136,-213.9533 130,-213.9533\"/>\n",
       "<text text-anchor=\"middle\" x=\"115\" y=\"-198.7533\" font-family=\"Times,serif\" font-size=\"14.00\" fill=\"#000000\">y</text>\n",
       "<text text-anchor=\"middle\" x=\"115\" y=\"-183.7533\" font-family=\"Times,serif\" font-size=\"14.00\" fill=\"#000000\">~</text>\n",
       "<text text-anchor=\"middle\" x=\"115\" y=\"-168.7533\" font-family=\"Times,serif\" font-size=\"14.00\" fill=\"#000000\">Data</text>\n",
       "</g>\n",
       "<!-- x -->\n",
       "<g id=\"node2\" class=\"node\">\n",
       "<title>x</title>\n",
       "<path fill=\"#d3d3d3\" stroke=\"#000000\" d=\"M58,-213.9533C58,-213.9533 28,-213.9533 28,-213.9533 22,-213.9533 16,-207.9533 16,-201.9533 16,-201.9533 16,-172.9533 16,-172.9533 16,-166.9533 22,-160.9533 28,-160.9533 28,-160.9533 58,-160.9533 58,-160.9533 64,-160.9533 70,-166.9533 70,-172.9533 70,-172.9533 70,-201.9533 70,-201.9533 70,-207.9533 64,-213.9533 58,-213.9533\"/>\n",
       "<text text-anchor=\"middle\" x=\"43\" y=\"-198.7533\" font-family=\"Times,serif\" font-size=\"14.00\" fill=\"#000000\">x</text>\n",
       "<text text-anchor=\"middle\" x=\"43\" y=\"-183.7533\" font-family=\"Times,serif\" font-size=\"14.00\" fill=\"#000000\">~</text>\n",
       "<text text-anchor=\"middle\" x=\"43\" y=\"-168.7533\" font-family=\"Times,serif\" font-size=\"14.00\" fill=\"#000000\">Data</text>\n",
       "</g>\n",
       "<!-- observed -->\n",
       "<g id=\"node5\" class=\"node\">\n",
       "<title>observed</title>\n",
       "<ellipse fill=\"#d3d3d3\" stroke=\"#000000\" cx=\"160\" cy=\"-76.4767\" rx=\"45.9239\" ry=\"37.4533\"/>\n",
       "<text text-anchor=\"middle\" x=\"160\" y=\"-87.7767\" font-family=\"Times,serif\" font-size=\"14.00\" fill=\"#000000\">observed</text>\n",
       "<text text-anchor=\"middle\" x=\"160\" y=\"-72.7767\" font-family=\"Times,serif\" font-size=\"14.00\" fill=\"#000000\">~</text>\n",
       "<text text-anchor=\"middle\" x=\"160\" y=\"-57.7767\" font-family=\"Times,serif\" font-size=\"14.00\" fill=\"#000000\">Normal</text>\n",
       "</g>\n",
       "<!-- x&#45;&gt;observed -->\n",
       "<g id=\"edge3\" class=\"edge\">\n",
       "<title>x&#45;&gt;observed</title>\n",
       "<path fill=\"none\" stroke=\"#000000\" d=\"M56.4437,-160.8564C62.4637,-150.4959 70.1971,-138.9713 79,-129.9533 88.9453,-119.7651 101.1492,-110.4767 113.0374,-102.6041\"/>\n",
       "<polygon fill=\"#000000\" stroke=\"#000000\" points=\"115.0612,-105.4645 121.6013,-97.1292 111.2907,-99.5667 115.0612,-105.4645\"/>\n",
       "</g>\n",
       "<!-- intercept -->\n",
       "<g id=\"node3\" class=\"node\">\n",
       "<title>intercept</title>\n",
       "<ellipse fill=\"none\" stroke=\"#000000\" cx=\"205\" cy=\"-187.4533\" rx=\"45.011\" ry=\"37.4533\"/>\n",
       "<text text-anchor=\"middle\" x=\"205\" y=\"-198.7533\" font-family=\"Times,serif\" font-size=\"14.00\" fill=\"#000000\">intercept</text>\n",
       "<text text-anchor=\"middle\" x=\"205\" y=\"-183.7533\" font-family=\"Times,serif\" font-size=\"14.00\" fill=\"#000000\">~</text>\n",
       "<text text-anchor=\"middle\" x=\"205\" y=\"-168.7533\" font-family=\"Times,serif\" font-size=\"14.00\" fill=\"#000000\">Normal</text>\n",
       "</g>\n",
       "<!-- intercept&#45;&gt;observed -->\n",
       "<g id=\"edge2\" class=\"edge\">\n",
       "<title>intercept&#45;&gt;observed</title>\n",
       "<path fill=\"none\" stroke=\"#000000\" d=\"M190.514,-151.7287C186.6199,-142.1252 182.3574,-131.6132 178.2858,-121.5721\"/>\n",
       "<polygon fill=\"#000000\" stroke=\"#000000\" points=\"181.4601,-120.0862 174.4588,-112.1343 174.9731,-122.7167 181.4601,-120.0862\"/>\n",
       "</g>\n",
       "<!-- slope -->\n",
       "<g id=\"node4\" class=\"node\">\n",
       "<title>slope</title>\n",
       "<ellipse fill=\"none\" stroke=\"#000000\" cx=\"310\" cy=\"-187.4533\" rx=\"41.9398\" ry=\"37.4533\"/>\n",
       "<text text-anchor=\"middle\" x=\"310\" y=\"-198.7533\" font-family=\"Times,serif\" font-size=\"14.00\" fill=\"#000000\">slope</text>\n",
       "<text text-anchor=\"middle\" x=\"310\" y=\"-183.7533\" font-family=\"Times,serif\" font-size=\"14.00\" fill=\"#000000\">~</text>\n",
       "<text text-anchor=\"middle\" x=\"310\" y=\"-168.7533\" font-family=\"Times,serif\" font-size=\"14.00\" fill=\"#000000\">Normal</text>\n",
       "</g>\n",
       "<!-- slope&#45;&gt;observed -->\n",
       "<g id=\"edge4\" class=\"edge\">\n",
       "<title>slope&#45;&gt;observed</title>\n",
       "<path fill=\"none\" stroke=\"#000000\" d=\"M286.1294,-156.5806C278.1147,-147.3581 268.7249,-137.6618 259,-129.9533 244.0166,-118.0766 226.0192,-107.4646 209.5026,-98.8863\"/>\n",
       "<polygon fill=\"#000000\" stroke=\"#000000\" points=\"211.0107,-95.7268 200.5077,-94.3347 207.8501,-101.9727 211.0107,-95.7268\"/>\n",
       "</g>\n",
       "<!-- observed&#45;&gt;y -->\n",
       "<g id=\"edge1\" class=\"edge\">\n",
       "<title>observed&#45;&gt;y</title>\n",
       "<path fill=\"none\" stroke=\"#000000\" d=\"M145.5654,-112.0746C140.4465,-124.6986 134.6856,-138.9057 129.5566,-151.5547\"/>\n",
       "<polygon fill=\"#000000\" stroke=\"#000000\" points=\"126.2929,-150.2893 125.7786,-160.8716 132.7799,-152.9197 126.2929,-150.2893\"/>\n",
       "</g>\n",
       "</g>\n",
       "</svg>\n"
      ],
      "text/plain": [
       "<graphviz.dot.Digraph at 0x7fc4329e78d0>"
      ]
     },
     "execution_count": 11,
     "metadata": {},
     "output_type": "execute_result"
    }
   ],
   "source": [
    "pm.model_to_graphviz(simple_model)"
   ]
  },
  {
   "cell_type": "markdown",
   "metadata": {
    "slideshow": {
     "slide_type": "fragment"
    }
   },
   "source": [
    "It's actually not so bad. The `pm.Data`'s dshape is only ever used for model_to_graphviz so it has no other consequence. "
   ]
  },
  {
   "cell_type": "markdown",
   "metadata": {
    "slideshow": {
     "slide_type": "slide"
    }
   },
   "source": [
    "## Shape problems creep in\n",
    "\n",
    "![A shape problem would eat you and everyone you cared about](https://i.redd.it/oixpf3vlye7z.jpg)\n",
    "\n",
    "Troy McClure: _Don't kid yourself Jimmy! If a shape problem ever got the chance, it'd eat you and everyone you care about!_"
   ]
  },
  {
   "cell_type": "markdown",
   "metadata": {
    "slideshow": {
     "slide_type": "slide"
    }
   },
   "source": [
    "## Shape problems creep in\n",
    "\n",
    "- Our distributions __are not theano tensors__\n",
    "- Distribution shape __is not inferred from the parameters__\n",
    "- Distribution shape __is detached from any change performed by `set_data`__\n",
    "\n",
    "Things get messy as soon as some distribution's shape depends on variable data"
   ]
  },
  {
   "cell_type": "markdown",
   "metadata": {
    "slideshow": {
     "slide_type": "slide"
    }
   },
   "source": [
    "#### A model with an unknown latent label per data point"
   ]
  },
  {
   "cell_type": "code",
   "execution_count": 12,
   "metadata": {
    "slideshow": {
     "slide_type": "fragment"
    }
   },
   "outputs": [],
   "source": [
    "n_components = 2\n",
    "component_probability = np.random.rand(n_components)\n",
    "component_probability/= np.sum(component_probability)"
   ]
  },
  {
   "cell_type": "code",
   "execution_count": 13,
   "metadata": {
    "slideshow": {
     "slide_type": "fragment"
    }
   },
   "outputs": [],
   "source": [
    "true_slopes = np.arange(n_components) * 2 + 1\n",
    "true_intercept = 5"
   ]
  },
  {
   "cell_type": "code",
   "execution_count": 14,
   "metadata": {
    "slideshow": {
     "slide_type": "fragment"
    }
   },
   "outputs": [],
   "source": [
    "x_train2 = np.linspace(-1, 2, 21)\n",
    "label_train2 = np.random.choice(\n",
    "    n_components, p=component_probability, size=x_train2.shape\n",
    ")\n",
    "y_train2 = (\n",
    "    true_slopes[label_train2] * x_train2 +\n",
    "    true_intercept +\n",
    "    np.random.randn(*x_train1.shape)\n",
    ")\n",
    "coords2 = {\"obs_ind\": np.arange(len(x_train2)), \"component\": np.arange(n_components)}"
   ]
  },
  {
   "cell_type": "code",
   "execution_count": 15,
   "metadata": {
    "slideshow": {
     "slide_type": "fragment"
    }
   },
   "outputs": [],
   "source": [
    "x_test2 = np.linspace(-3, 5, 10)\n",
    "label_test2 = np.random.choice(\n",
    "    n_components, p=component_probability, size=x_test2.shape\n",
    ")\n",
    "y_test2 = (\n",
    "    true_slopes[label_test2] * x_test2 +\n",
    "    true_intercept +\n",
    "    np.random.randn(*x_test2.shape)\n",
    ")"
   ]
  },
  {
   "cell_type": "code",
   "execution_count": 16,
   "metadata": {
    "slideshow": {
     "slide_type": "slide"
    }
   },
   "outputs": [
    {
     "name": "stderr",
     "output_type": "stream",
     "text": [
      "Multiprocess sampling (2 chains in 2 jobs)\n",
      "CompoundStep\n",
      ">BinaryGibbsMetropolis: [label]\n",
      ">NUTS: [intercept, slope]\n"
     ]
    },
    {
     "data": {
      "text/html": [
       "\n",
       "    <div>\n",
       "        <style>\n",
       "            /* Turns off some styling */\n",
       "            progress {\n",
       "                /* gets rid of default border in Firefox and Opera. */\n",
       "                border: none;\n",
       "                /* Needs to be in here for Safari polyfill so background images work as expected. */\n",
       "                background-size: auto;\n",
       "            }\n",
       "            .progress-bar-interrupted, .progress-bar-interrupted::-webkit-progress-bar {\n",
       "                background: #F44336;\n",
       "            }\n",
       "        </style>\n",
       "      <progress value='8000' class='' max='8000', style='width:300px; height:20px; vertical-align: middle;'></progress>\n",
       "      100.00% [8000/8000 00:11<00:00 Sampling 2 chains, 0 divergences]\n",
       "    </div>\n",
       "    "
      ],
      "text/plain": [
       "<IPython.core.display.HTML object>"
      ]
     },
     "metadata": {},
     "output_type": "display_data"
    },
    {
     "name": "stderr",
     "output_type": "stream",
     "text": [
      "Sampling 2 chains for 3_000 tune and 1_000 draw iterations (6_000 + 2_000 draws total) took 11 seconds.\n"
     ]
    }
   ],
   "source": [
    "with pm.Model(coords=coords2) as latent_label_model:\n",
    "    regressor = pm.Data(\"x\", x_train2, dims=\"obs_ind\")\n",
    "    label = pm.Categorical(\"label\", p=component_probability, dims=\"obs_ind\")\n",
    "    slope = pm.Normal(\"slope\", 0, 10, dims=\"component\")\n",
    "    intercept = pm.Normal(\"intercept\", 0, 10)\n",
    "    mu = slope[label] * regressor + intercept\n",
    "    output = pm.Data(\"y\", y_train2)\n",
    "    observed = pm.Normal(\"observed\", mu=mu, sigma=1, observed=output, dims=\"obs_ind\")\n",
    "    \n",
    "    prior = pm.sample_prior_predictive()\n",
    "    trace = pm.sample(tune=3000)\n",
    "    ppc = pm.fast_sample_posterior_predictive(trace)\n",
    "    latent_label_idata = az.from_pymc3(trace=trace, prior=prior, posterior_predictive=ppc)"
   ]
  },
  {
   "cell_type": "code",
   "execution_count": 17,
   "metadata": {
    "slideshow": {
     "slide_type": "subslide"
    }
   },
   "outputs": [
    {
     "data": {
      "image/svg+xml": [
       "<?xml version=\"1.0\" encoding=\"UTF-8\" standalone=\"no\"?>\n",
       "<!DOCTYPE svg PUBLIC \"-//W3C//DTD SVG 1.1//EN\"\n",
       " \"http://www.w3.org/Graphics/SVG/1.1/DTD/svg11.dtd\">\n",
       "<!-- Generated by graphviz version 2.40.1 (20161225.0304)\n",
       " -->\n",
       "<!-- Title: %3 Pages: 1 -->\n",
       "<svg width=\"424pt\" height=\"341pt\"\n",
       " viewBox=\"0.00 0.00 424.25 340.91\" xmlns=\"http://www.w3.org/2000/svg\" xmlns:xlink=\"http://www.w3.org/1999/xlink\">\n",
       "<g id=\"graph0\" class=\"graph\" transform=\"scale(1 1) rotate(0) translate(4 336.9066)\">\n",
       "<title>%3</title>\n",
       "<polygon fill=\"#ffffff\" stroke=\"transparent\" points=\"-4,4 -4,-336.9066 420.2548,-336.9066 420.2548,4 -4,4\"/>\n",
       "<g id=\"clust1\" class=\"cluster\">\n",
       "<title>cluster21</title>\n",
       "<path fill=\"none\" stroke=\"#000000\" d=\"M20,-8C20,-8 196,-8 196,-8 202,-8 208,-14 208,-20 208,-20 208,-312.9066 208,-312.9066 208,-318.9066 202,-324.9066 196,-324.9066 196,-324.9066 20,-324.9066 20,-324.9066 14,-324.9066 8,-318.9066 8,-312.9066 8,-312.9066 8,-20 8,-20 8,-14 14,-8 20,-8\"/>\n",
       "<text text-anchor=\"middle\" x=\"193\" y=\"-15.8\" font-family=\"Times,serif\" font-size=\"14.00\" fill=\"#000000\">21</text>\n",
       "</g>\n",
       "<g id=\"clust2\" class=\"cluster\">\n",
       "<title>cluster2</title>\n",
       "<path fill=\"none\" stroke=\"#000000\" d=\"M228,-210.9533C228,-210.9533 304,-210.9533 304,-210.9533 310,-210.9533 316,-216.9533 316,-222.9533 316,-222.9533 316,-312.9066 316,-312.9066 316,-318.9066 310,-324.9066 304,-324.9066 304,-324.9066 228,-324.9066 228,-324.9066 222,-324.9066 216,-318.9066 216,-312.9066 216,-312.9066 216,-222.9533 216,-222.9533 216,-216.9533 222,-210.9533 228,-210.9533\"/>\n",
       "<text text-anchor=\"middle\" x=\"304.5\" y=\"-218.7533\" font-family=\"Times,serif\" font-size=\"14.00\" fill=\"#000000\">2</text>\n",
       "</g>\n",
       "<!-- label -->\n",
       "<g id=\"node1\" class=\"node\">\n",
       "<title>label</title>\n",
       "<ellipse fill=\"none\" stroke=\"#000000\" cx=\"144\" cy=\"-279.43\" rx=\"55.7232\" ry=\"37.4533\"/>\n",
       "<text text-anchor=\"middle\" x=\"144\" y=\"-290.73\" font-family=\"Times,serif\" font-size=\"14.00\" fill=\"#000000\">label</text>\n",
       "<text text-anchor=\"middle\" x=\"144\" y=\"-275.73\" font-family=\"Times,serif\" font-size=\"14.00\" fill=\"#000000\">~</text>\n",
       "<text text-anchor=\"middle\" x=\"144\" y=\"-260.73\" font-family=\"Times,serif\" font-size=\"14.00\" fill=\"#000000\">Categorical</text>\n",
       "</g>\n",
       "<!-- observed -->\n",
       "<g id=\"node4\" class=\"node\">\n",
       "<title>observed</title>\n",
       "<ellipse fill=\"#d3d3d3\" stroke=\"#000000\" cx=\"149\" cy=\"-165.4767\" rx=\"45.9239\" ry=\"37.4533\"/>\n",
       "<text text-anchor=\"middle\" x=\"149\" y=\"-176.7767\" font-family=\"Times,serif\" font-size=\"14.00\" fill=\"#000000\">observed</text>\n",
       "<text text-anchor=\"middle\" x=\"149\" y=\"-161.7767\" font-family=\"Times,serif\" font-size=\"14.00\" fill=\"#000000\">~</text>\n",
       "<text text-anchor=\"middle\" x=\"149\" y=\"-146.7767\" font-family=\"Times,serif\" font-size=\"14.00\" fill=\"#000000\">Normal</text>\n",
       "</g>\n",
       "<!-- label&#45;&gt;observed -->\n",
       "<g id=\"edge2\" class=\"edge\">\n",
       "<title>label&#45;&gt;observed</title>\n",
       "<path fill=\"none\" stroke=\"#000000\" d=\"M145.651,-241.8016C146.0521,-232.6608 146.4863,-222.7661 146.9049,-213.226\"/>\n",
       "<polygon fill=\"#000000\" stroke=\"#000000\" points=\"150.4089,-213.2094 147.3507,-203.0655 143.4156,-212.9025 150.4089,-213.2094\"/>\n",
       "</g>\n",
       "<!-- y -->\n",
       "<g id=\"node2\" class=\"node\">\n",
       "<title>y</title>\n",
       "<path fill=\"#d3d3d3\" stroke=\"#000000\" d=\"M164,-92C164,-92 134,-92 134,-92 128,-92 122,-86 122,-80 122,-80 122,-51 122,-51 122,-45 128,-39 134,-39 134,-39 164,-39 164,-39 170,-39 176,-45 176,-51 176,-51 176,-80 176,-80 176,-86 170,-92 164,-92\"/>\n",
       "<text text-anchor=\"middle\" x=\"149\" y=\"-76.8\" font-family=\"Times,serif\" font-size=\"14.00\" fill=\"#000000\">y</text>\n",
       "<text text-anchor=\"middle\" x=\"149\" y=\"-61.8\" font-family=\"Times,serif\" font-size=\"14.00\" fill=\"#000000\">~</text>\n",
       "<text text-anchor=\"middle\" x=\"149\" y=\"-46.8\" font-family=\"Times,serif\" font-size=\"14.00\" fill=\"#000000\">Data</text>\n",
       "</g>\n",
       "<!-- x -->\n",
       "<g id=\"node3\" class=\"node\">\n",
       "<title>x</title>\n",
       "<path fill=\"#d3d3d3\" stroke=\"#000000\" d=\"M58,-305.93C58,-305.93 28,-305.93 28,-305.93 22,-305.93 16,-299.93 16,-293.93 16,-293.93 16,-264.93 16,-264.93 16,-258.93 22,-252.93 28,-252.93 28,-252.93 58,-252.93 58,-252.93 64,-252.93 70,-258.93 70,-264.93 70,-264.93 70,-293.93 70,-293.93 70,-299.93 64,-305.93 58,-305.93\"/>\n",
       "<text text-anchor=\"middle\" x=\"43\" y=\"-290.73\" font-family=\"Times,serif\" font-size=\"14.00\" fill=\"#000000\">x</text>\n",
       "<text text-anchor=\"middle\" x=\"43\" y=\"-275.73\" font-family=\"Times,serif\" font-size=\"14.00\" fill=\"#000000\">~</text>\n",
       "<text text-anchor=\"middle\" x=\"43\" y=\"-260.73\" font-family=\"Times,serif\" font-size=\"14.00\" fill=\"#000000\">Data</text>\n",
       "</g>\n",
       "<!-- x&#45;&gt;observed -->\n",
       "<g id=\"edge4\" class=\"edge\">\n",
       "<title>x&#45;&gt;observed</title>\n",
       "<path fill=\"none\" stroke=\"#000000\" d=\"M53.1896,-252.7382C59.2656,-239.1806 67.9592,-223.0612 79,-210.9533 85.5226,-203.8003 93.4071,-197.284 101.4988,-191.5591\"/>\n",
       "<polygon fill=\"#000000\" stroke=\"#000000\" points=\"103.602,-194.3628 109.9577,-185.8861 99.703,-188.5492 103.602,-194.3628\"/>\n",
       "</g>\n",
       "<!-- observed&#45;&gt;y -->\n",
       "<g id=\"edge1\" class=\"edge\">\n",
       "<title>observed&#45;&gt;y</title>\n",
       "<path fill=\"none\" stroke=\"#000000\" d=\"M149,-127.9646C149,-119.6275 149,-110.7957 149,-102.4801\"/>\n",
       "<polygon fill=\"#000000\" stroke=\"#000000\" points=\"152.5001,-102.2991 149,-92.2991 145.5001,-102.2991 152.5001,-102.2991\"/>\n",
       "</g>\n",
       "<!-- slope -->\n",
       "<g id=\"node5\" class=\"node\">\n",
       "<title>slope</title>\n",
       "<ellipse fill=\"none\" stroke=\"#000000\" cx=\"266\" cy=\"-279.43\" rx=\"41.9398\" ry=\"37.4533\"/>\n",
       "<text text-anchor=\"middle\" x=\"266\" y=\"-290.73\" font-family=\"Times,serif\" font-size=\"14.00\" fill=\"#000000\">slope</text>\n",
       "<text text-anchor=\"middle\" x=\"266\" y=\"-275.73\" font-family=\"Times,serif\" font-size=\"14.00\" fill=\"#000000\">~</text>\n",
       "<text text-anchor=\"middle\" x=\"266\" y=\"-260.73\" font-family=\"Times,serif\" font-size=\"14.00\" fill=\"#000000\">Normal</text>\n",
       "</g>\n",
       "<!-- slope&#45;&gt;observed -->\n",
       "<g id=\"edge5\" class=\"edge\">\n",
       "<title>slope&#45;&gt;observed</title>\n",
       "<path fill=\"none\" stroke=\"#000000\" d=\"M243.7804,-247.5434C234.6239,-235.449 223.4773,-221.9529 212,-210.9533 206.2479,-205.4407 199.7966,-200.051 193.2749,-195.0211\"/>\n",
       "<polygon fill=\"#000000\" stroke=\"#000000\" points=\"195.1305,-192.0386 185.0237,-188.86 190.9423,-197.6475 195.1305,-192.0386\"/>\n",
       "</g>\n",
       "<!-- intercept -->\n",
       "<g id=\"node6\" class=\"node\">\n",
       "<title>intercept</title>\n",
       "<ellipse fill=\"none\" stroke=\"#000000\" cx=\"371\" cy=\"-279.43\" rx=\"45.011\" ry=\"37.4533\"/>\n",
       "<text text-anchor=\"middle\" x=\"371\" y=\"-290.73\" font-family=\"Times,serif\" font-size=\"14.00\" fill=\"#000000\">intercept</text>\n",
       "<text text-anchor=\"middle\" x=\"371\" y=\"-275.73\" font-family=\"Times,serif\" font-size=\"14.00\" fill=\"#000000\">~</text>\n",
       "<text text-anchor=\"middle\" x=\"371\" y=\"-260.73\" font-family=\"Times,serif\" font-size=\"14.00\" fill=\"#000000\">Normal</text>\n",
       "</g>\n",
       "<!-- intercept&#45;&gt;observed -->\n",
       "<g id=\"edge3\" class=\"edge\">\n",
       "<title>intercept&#45;&gt;observed</title>\n",
       "<path fill=\"none\" stroke=\"#000000\" d=\"M352.1518,-245.1722C343.7824,-232.7689 332.8871,-219.681 320,-210.9533 285.8536,-187.828 240.495,-176.4507 205.0741,-170.8593\"/>\n",
       "<polygon fill=\"#000000\" stroke=\"#000000\" points=\"205.2974,-167.3548 194.8955,-169.367 204.2819,-174.2807 205.2974,-167.3548\"/>\n",
       "</g>\n",
       "</g>\n",
       "</svg>\n"
      ],
      "text/plain": [
       "<graphviz.dot.Digraph at 0x7fc432c4cfd0>"
      ]
     },
     "execution_count": 17,
     "metadata": {},
     "output_type": "execute_result"
    }
   ],
   "source": [
    "pm.model_to_graphviz(latent_label_model)"
   ]
  },
  {
   "cell_type": "code",
   "execution_count": 18,
   "metadata": {
    "slideshow": {
     "slide_type": "subslide"
    }
   },
   "outputs": [
    {
     "data": {
      "image/png": "[encoded data removed]",
      "text/plain": [
       "<Figure size 432x288 with 1 Axes>"
      ]
     },
     "metadata": {
      "needs_background": "light"
     },
     "output_type": "display_data"
    }
   ],
   "source": [
    "fig, ax = plt.subplots(1, 1)\n",
    "ax.plot(x_train1, y_train1, \"-ob\")\n",
    "az.plot_hdi(\n",
    "    x_train1,\n",
    "    latent_label_idata.posterior_predictive[\"observed\"],\n",
    "    ax=ax,\n",
    "    hdi_prob=0.95,\n",
    ")\n",
    "ax.set_xlabel(\"Regressor value\")\n",
    "ax.set_ylabel(\"Observed\")\n",
    "ax.set_title(\"Predictions on training data\");"
   ]
  },
  {
   "cell_type": "markdown",
   "metadata": {
    "slideshow": {
     "slide_type": "slide"
    }
   },
   "source": [
    "### But what happens on new data?"
   ]
  },
  {
   "cell_type": "code",
   "execution_count": 19,
   "metadata": {
    "slideshow": {
     "slide_type": "fragment"
    }
   },
   "outputs": [
    {
     "data": {
      "text/html": [
       "\n",
       "    <div>\n",
       "        <style>\n",
       "            /* Turns off some styling */\n",
       "            progress {\n",
       "                /* gets rid of default border in Firefox and Opera. */\n",
       "                border: none;\n",
       "                /* Needs to be in here for Safari polyfill so background images work as expected. */\n",
       "                background-size: auto;\n",
       "            }\n",
       "            .progress-bar-interrupted, .progress-bar-interrupted::-webkit-progress-bar {\n",
       "                background: #F44336;\n",
       "            }\n",
       "        </style>\n",
       "      <progress value='0' class='' max='2000', style='width:300px; height:20px; vertical-align: middle;'></progress>\n",
       "      0.00% [0/2000 00:00<00:00]\n",
       "    </div>\n",
       "    "
      ],
      "text/plain": [
       "<IPython.core.display.HTML object>"
      ]
     },
     "metadata": {},
     "output_type": "display_data"
    },
    {
     "name": "stdout",
     "output_type": "stream",
     "text": [
      "ValueError: Input dimension mis-match. (input[0].shape[0] = 21, input[1].shape[0] = 10)\n",
      "Apply node that caused the error: Elemwise{Composite{((i0 * i1) + i2)}}[(0, 0)](AdvancedSubtensor1.0, x, InplaceDimShuffle{x}.0)\n",
      "Toposort index: 2\n",
      "Inputs types: [TensorType(float64, vector), TensorType(float64, vector), TensorType(float64, (True,))]\n",
      "Inputs shapes: [(21,), (10,), (1,)]\n",
      "Inputs strides: [(8,), (8,), (8,)]\n",
      "Inputs values: ['not shown', 'not shown', array([4.4790877])]\n",
      "Outputs clients: [['output']]\n",
      "\n",
      "HINT: Re-running with most Theano optimization disabled could give you a back-trace of when this node was created. This can be done with by setting the Theano flag 'optimizer=fast_compile'. If that does not work, Theano optimizations can be disabled with 'optimizer=None'.\n",
      "HINT: Use the Theano flag 'exception_verbosity=high' for a debugprint and storage map footprint of this apply node.\n"
     ]
    }
   ],
   "source": [
    "with latent_label_model:\n",
    "    pm.set_data(\n",
    "        dict(\n",
    "            x=x_test2,\n",
    "            y=y_test2,\n",
    "        )\n",
    "    )\n",
    "    try:\n",
    "        ppc2 = pm.sample_posterior_predictive(latent_label_idata)\n",
    "    except Exception as e:\n",
    "        print(f\"{e.__class__.__name__}: {e}\")"
   ]
  },
  {
   "cell_type": "markdown",
   "metadata": {
    "slideshow": {
     "slide_type": "subslide"
    }
   },
   "source": [
    "### But why?"
   ]
  },
  {
   "cell_type": "code",
   "execution_count": 20,
   "metadata": {
    "slideshow": {
     "slide_type": "fragment"
    }
   },
   "outputs": [
    {
     "data": {
      "image/svg+xml": [
       "<?xml version=\"1.0\" encoding=\"UTF-8\" standalone=\"no\"?>\n",
       "<!DOCTYPE svg PUBLIC \"-//W3C//DTD SVG 1.1//EN\"\n",
       " \"http://www.w3.org/Graphics/SVG/1.1/DTD/svg11.dtd\">\n",
       "<!-- Generated by graphviz version 2.40.1 (20161225.0304)\n",
       " -->\n",
       "<!-- Title: %3 Pages: 1 -->\n",
       "<svg width=\"496pt\" height=\"260pt\"\n",
       " viewBox=\"0.00 0.00 496.25 259.91\" xmlns=\"http://www.w3.org/2000/svg\" xmlns:xlink=\"http://www.w3.org/1999/xlink\">\n",
       "<g id=\"graph0\" class=\"graph\" transform=\"scale(1 1) rotate(0) translate(4 255.9066)\">\n",
       "<title>%3</title>\n",
       "<polygon fill=\"#ffffff\" stroke=\"transparent\" points=\"-4,4 -4,-255.9066 492.2548,-255.9066 492.2548,4 -4,4\"/>\n",
       "<g id=\"clust1\" class=\"cluster\">\n",
       "<title>cluster21</title>\n",
       "<path fill=\"none\" stroke=\"#000000\" d=\"M20,-129.9533C20,-129.9533 268,-129.9533 268,-129.9533 274,-129.9533 280,-135.9533 280,-141.9533 280,-141.9533 280,-231.9066 280,-231.9066 280,-237.9066 274,-243.9066 268,-243.9066 268,-243.9066 20,-243.9066 20,-243.9066 14,-243.9066 8,-237.9066 8,-231.9066 8,-231.9066 8,-141.9533 8,-141.9533 8,-135.9533 14,-129.9533 20,-129.9533\"/>\n",
       "<text text-anchor=\"middle\" x=\"265\" y=\"-137.7533\" font-family=\"Times,serif\" font-size=\"14.00\" fill=\"#000000\">21</text>\n",
       "</g>\n",
       "<g id=\"clust2\" class=\"cluster\">\n",
       "<title>cluster2</title>\n",
       "<path fill=\"none\" stroke=\"#000000\" d=\"M300,-129.9533C300,-129.9533 376,-129.9533 376,-129.9533 382,-129.9533 388,-135.9533 388,-141.9533 388,-141.9533 388,-231.9066 388,-231.9066 388,-237.9066 382,-243.9066 376,-243.9066 376,-243.9066 300,-243.9066 300,-243.9066 294,-243.9066 288,-237.9066 288,-231.9066 288,-231.9066 288,-141.9533 288,-141.9533 288,-135.9533 294,-129.9533 300,-129.9533\"/>\n",
       "<text text-anchor=\"middle\" x=\"376.5\" y=\"-137.7533\" font-family=\"Times,serif\" font-size=\"14.00\" fill=\"#000000\">2</text>\n",
       "</g>\n",
       "<g id=\"clust3\" class=\"cluster\">\n",
       "<title>cluster10</title>\n",
       "<path fill=\"none\" stroke=\"#000000\" d=\"M174,-8C174,-8 258,-8 258,-8 264,-8 270,-14 270,-20 270,-20 270,-109.9533 270,-109.9533 270,-115.9533 264,-121.9533 258,-121.9533 258,-121.9533 174,-121.9533 174,-121.9533 168,-121.9533 162,-115.9533 162,-109.9533 162,-109.9533 162,-20 162,-20 162,-14 168,-8 174,-8\"/>\n",
       "<text text-anchor=\"middle\" x=\"255\" y=\"-15.8\" font-family=\"Times,serif\" font-size=\"14.00\" fill=\"#000000\">10</text>\n",
       "</g>\n",
       "<!-- label -->\n",
       "<g id=\"node1\" class=\"node\">\n",
       "<title>label</title>\n",
       "<ellipse fill=\"none\" stroke=\"#000000\" cx=\"216\" cy=\"-198.43\" rx=\"55.7232\" ry=\"37.4533\"/>\n",
       "<text text-anchor=\"middle\" x=\"216\" y=\"-209.73\" font-family=\"Times,serif\" font-size=\"14.00\" fill=\"#000000\">label</text>\n",
       "<text text-anchor=\"middle\" x=\"216\" y=\"-194.73\" font-family=\"Times,serif\" font-size=\"14.00\" fill=\"#000000\">~</text>\n",
       "<text text-anchor=\"middle\" x=\"216\" y=\"-179.73\" font-family=\"Times,serif\" font-size=\"14.00\" fill=\"#000000\">Categorical</text>\n",
       "</g>\n",
       "<!-- observed -->\n",
       "<g id=\"node6\" class=\"node\">\n",
       "<title>observed</title>\n",
       "<ellipse fill=\"#d3d3d3\" stroke=\"#000000\" cx=\"216\" cy=\"-76.4767\" rx=\"45.9239\" ry=\"37.4533\"/>\n",
       "<text text-anchor=\"middle\" x=\"216\" y=\"-87.7767\" font-family=\"Times,serif\" font-size=\"14.00\" fill=\"#000000\">observed</text>\n",
       "<text text-anchor=\"middle\" x=\"216\" y=\"-72.7767\" font-family=\"Times,serif\" font-size=\"14.00\" fill=\"#000000\">~</text>\n",
       "<text text-anchor=\"middle\" x=\"216\" y=\"-57.7767\" font-family=\"Times,serif\" font-size=\"14.00\" fill=\"#000000\">Normal</text>\n",
       "</g>\n",
       "<!-- label&#45;&gt;observed -->\n",
       "<g id=\"edge2\" class=\"edge\">\n",
       "<title>label&#45;&gt;observed</title>\n",
       "<path fill=\"none\" stroke=\"#000000\" d=\"M216,-160.8449C216,-149.2534 216,-136.3328 216,-124.1558\"/>\n",
       "<polygon fill=\"#000000\" stroke=\"#000000\" points=\"219.5001,-124.1476 216,-114.1476 212.5001,-124.1476 219.5001,-124.1476\"/>\n",
       "</g>\n",
       "<!-- y -->\n",
       "<g id=\"node2\" class=\"node\">\n",
       "<title>y</title>\n",
       "<path fill=\"#d3d3d3\" stroke=\"#000000\" d=\"M130,-224.93C130,-224.93 100,-224.93 100,-224.93 94,-224.93 88,-218.93 88,-212.93 88,-212.93 88,-183.93 88,-183.93 88,-177.93 94,-171.93 100,-171.93 100,-171.93 130,-171.93 130,-171.93 136,-171.93 142,-177.93 142,-183.93 142,-183.93 142,-212.93 142,-212.93 142,-218.93 136,-224.93 130,-224.93\"/>\n",
       "<text text-anchor=\"middle\" x=\"115\" y=\"-209.73\" font-family=\"Times,serif\" font-size=\"14.00\" fill=\"#000000\">y</text>\n",
       "<text text-anchor=\"middle\" x=\"115\" y=\"-194.73\" font-family=\"Times,serif\" font-size=\"14.00\" fill=\"#000000\">~</text>\n",
       "<text text-anchor=\"middle\" x=\"115\" y=\"-179.73\" font-family=\"Times,serif\" font-size=\"14.00\" fill=\"#000000\">Data</text>\n",
       "</g>\n",
       "<!-- x -->\n",
       "<g id=\"node3\" class=\"node\">\n",
       "<title>x</title>\n",
       "<path fill=\"#d3d3d3\" stroke=\"#000000\" d=\"M58,-224.93C58,-224.93 28,-224.93 28,-224.93 22,-224.93 16,-218.93 16,-212.93 16,-212.93 16,-183.93 16,-183.93 16,-177.93 22,-171.93 28,-171.93 28,-171.93 58,-171.93 58,-171.93 64,-171.93 70,-177.93 70,-183.93 70,-183.93 70,-212.93 70,-212.93 70,-218.93 64,-224.93 58,-224.93\"/>\n",
       "<text text-anchor=\"middle\" x=\"43\" y=\"-209.73\" font-family=\"Times,serif\" font-size=\"14.00\" fill=\"#000000\">x</text>\n",
       "<text text-anchor=\"middle\" x=\"43\" y=\"-194.73\" font-family=\"Times,serif\" font-size=\"14.00\" fill=\"#000000\">~</text>\n",
       "<text text-anchor=\"middle\" x=\"43\" y=\"-179.73\" font-family=\"Times,serif\" font-size=\"14.00\" fill=\"#000000\">Data</text>\n",
       "</g>\n",
       "<!-- x&#45;&gt;observed -->\n",
       "<g id=\"edge4\" class=\"edge\">\n",
       "<title>x&#45;&gt;observed</title>\n",
       "<path fill=\"none\" stroke=\"#000000\" d=\"M51.8,-171.7781C57.607,-157.731 66.4834,-141.1426 79,-129.9533 102.1412,-109.2661 134.1992,-96.1671 161.4864,-88.1147\"/>\n",
       "<polygon fill=\"#000000\" stroke=\"#000000\" points=\"162.61,-91.4348 171.2983,-85.3716 160.7252,-84.6933 162.61,-91.4348\"/>\n",
       "</g>\n",
       "<!-- slope -->\n",
       "<g id=\"node4\" class=\"node\">\n",
       "<title>slope</title>\n",
       "<ellipse fill=\"none\" stroke=\"#000000\" cx=\"338\" cy=\"-198.43\" rx=\"41.9398\" ry=\"37.4533\"/>\n",
       "<text text-anchor=\"middle\" x=\"338\" y=\"-209.73\" font-family=\"Times,serif\" font-size=\"14.00\" fill=\"#000000\">slope</text>\n",
       "<text text-anchor=\"middle\" x=\"338\" y=\"-194.73\" font-family=\"Times,serif\" font-size=\"14.00\" fill=\"#000000\">~</text>\n",
       "<text text-anchor=\"middle\" x=\"338\" y=\"-179.73\" font-family=\"Times,serif\" font-size=\"14.00\" fill=\"#000000\">Normal</text>\n",
       "</g>\n",
       "<!-- slope&#45;&gt;observed -->\n",
       "<g id=\"edge5\" class=\"edge\">\n",
       "<title>slope&#45;&gt;observed</title>\n",
       "<path fill=\"none\" stroke=\"#000000\" d=\"M315.5415,-166.7875C306.354,-154.7249 295.2485,-141.1867 284,-129.9533 276.2705,-122.2341 267.444,-114.5845 258.7678,-107.5879\"/>\n",
       "<polygon fill=\"#000000\" stroke=\"#000000\" points=\"260.8965,-104.8093 250.8779,-101.3629 256.5606,-110.3048 260.8965,-104.8093\"/>\n",
       "</g>\n",
       "<!-- intercept -->\n",
       "<g id=\"node5\" class=\"node\">\n",
       "<title>intercept</title>\n",
       "<ellipse fill=\"none\" stroke=\"#000000\" cx=\"443\" cy=\"-198.43\" rx=\"45.011\" ry=\"37.4533\"/>\n",
       "<text text-anchor=\"middle\" x=\"443\" y=\"-209.73\" font-family=\"Times,serif\" font-size=\"14.00\" fill=\"#000000\">intercept</text>\n",
       "<text text-anchor=\"middle\" x=\"443\" y=\"-194.73\" font-family=\"Times,serif\" font-size=\"14.00\" fill=\"#000000\">~</text>\n",
       "<text text-anchor=\"middle\" x=\"443\" y=\"-179.73\" font-family=\"Times,serif\" font-size=\"14.00\" fill=\"#000000\">Normal</text>\n",
       "</g>\n",
       "<!-- intercept&#45;&gt;observed -->\n",
       "<g id=\"edge3\" class=\"edge\">\n",
       "<title>intercept&#45;&gt;observed</title>\n",
       "<path fill=\"none\" stroke=\"#000000\" d=\"M423.9901,-164.4065C415.5996,-152.0338 404.7322,-138.9055 392,-129.9533 356.3012,-104.853 308.5648,-91.312 271.8141,-84.1418\"/>\n",
       "<polygon fill=\"#000000\" stroke=\"#000000\" points=\"272.2284,-80.6592 261.759,-82.284 270.9566,-87.5427 272.2284,-80.6592\"/>\n",
       "</g>\n",
       "<!-- observed&#45;&gt;y -->\n",
       "<g id=\"edge1\" class=\"edge\">\n",
       "<title>observed&#45;&gt;y</title>\n",
       "<path fill=\"none\" stroke=\"#000000\" d=\"M180.9362,-101.0895C170.5031,-109.4738 159.579,-119.4133 151,-129.9533 142.9851,-139.8004 135.9806,-151.7122 130.3332,-162.8213\"/>\n",
       "<polygon fill=\"#000000\" stroke=\"#000000\" points=\"127.1434,-161.3777 125.9162,-171.9012 133.4381,-164.4398 127.1434,-161.3777\"/>\n",
       "</g>\n",
       "</g>\n",
       "</svg>\n"
      ],
      "text/plain": [
       "<graphviz.dot.Digraph at 0x7fc42cbbff90>"
      ]
     },
     "execution_count": 20,
     "metadata": {},
     "output_type": "execute_result"
    }
   ],
   "source": [
    "pm.model_to_graphviz(latent_label_model)"
   ]
  },
  {
   "cell_type": "markdown",
   "metadata": {
    "slideshow": {
     "slide_type": "fragment"
    }
   },
   "source": [
    "#### `pm.set_data` doesn't change `label`'s shape!!!"
   ]
  },
  {
   "cell_type": "markdown",
   "metadata": {
    "slideshow": {
     "slide_type": "slide"
    }
   },
   "source": [
    "## What if we try to marginalize `label` out of the model?"
   ]
  },
  {
   "cell_type": "code",
   "execution_count": 21,
   "metadata": {
    "slideshow": {
     "slide_type": "subslide"
    }
   },
   "outputs": [
    {
     "name": "stderr",
     "output_type": "stream",
     "text": [
      "Auto-assigning NUTS sampler...\n",
      "Initializing NUTS using jitter+adapt_diag...\n",
      "Multiprocess sampling (2 chains in 2 jobs)\n",
      "NUTS: [intercept, slope]\n"
     ]
    },
    {
     "data": {
      "text/html": [
       "\n",
       "    <div>\n",
       "        <style>\n",
       "            /* Turns off some styling */\n",
       "            progress {\n",
       "                /* gets rid of default border in Firefox and Opera. */\n",
       "                border: none;\n",
       "                /* Needs to be in here for Safari polyfill so background images work as expected. */\n",
       "                background-size: auto;\n",
       "            }\n",
       "            .progress-bar-interrupted, .progress-bar-interrupted::-webkit-progress-bar {\n",
       "                background: #F44336;\n",
       "            }\n",
       "        </style>\n",
       "      <progress value='8000' class='' max='8000', style='width:300px; height:20px; vertical-align: middle;'></progress>\n",
       "      100.00% [8000/8000 00:05<00:00 Sampling 2 chains, 0 divergences]\n",
       "    </div>\n",
       "    "
      ],
      "text/plain": [
       "<IPython.core.display.HTML object>"
      ]
     },
     "metadata": {},
     "output_type": "display_data"
    },
    {
     "name": "stderr",
     "output_type": "stream",
     "text": [
      "Sampling 2 chains for 3_000 tune and 1_000 draw iterations (6_000 + 2_000 draws total) took 5 seconds.\n",
      "The rhat statistic is larger than 1.4 for some parameters. The sampler did not converge.\n",
      "The estimated number of effective samples is smaller than 200 for some parameters.\n"
     ]
    }
   ],
   "source": [
    "with pm.Model(coords=coords2) as scalar_mixture_model:\n",
    "    regressor = pm.Data(\"x\", x_train2, dims=\"obs_ind\")\n",
    "    slope = pm.Normal(\"slope\", 0, 10, dims=\"component\")\n",
    "    intercept = pm.Normal(\"intercept\", 0, 10)\n",
    "    mu = slope * regressor[..., None] + intercept\n",
    "    output = pm.Data(\"y\", y_train2)\n",
    "    observed = pm.NormalMixture(\n",
    "        \"observed\",\n",
    "        w=component_probability,\n",
    "        mu=mu,\n",
    "        sigma=1,\n",
    "        observed=output,\n",
    "        comp_shape=(len(x_train2), n_components),\n",
    "        dims=\"obs_ind\",\n",
    "    )\n",
    "    \n",
    "    prior = pm.sample_prior_predictive()\n",
    "    trace = pm.sample(tune=3000)\n",
    "    ppc = pm.fast_sample_posterior_predictive(trace)\n",
    "    scalar_mixture_idata = az.from_pymc3(trace=trace, prior=prior, posterior_predictive=ppc)"
   ]
  },
  {
   "cell_type": "code",
   "execution_count": 22,
   "metadata": {
    "slideshow": {
     "slide_type": "subslide"
    }
   },
   "outputs": [
    {
     "data": {
      "image/svg+xml": [
       "<?xml version=\"1.0\" encoding=\"UTF-8\" standalone=\"no\"?>\n",
       "<!DOCTYPE svg PUBLIC \"-//W3C//DTD SVG 1.1//EN\"\n",
       " \"http://www.w3.org/Graphics/SVG/1.1/DTD/svg11.dtd\">\n",
       "<!-- Generated by graphviz version 2.40.1 (20161225.0304)\n",
       " -->\n",
       "<!-- Title: %3 Pages: 1 -->\n",
       "<svg width=\"386pt\" height=\"341pt\"\n",
       " viewBox=\"0.00 0.00 386.25 340.91\" xmlns=\"http://www.w3.org/2000/svg\" xmlns:xlink=\"http://www.w3.org/1999/xlink\">\n",
       "<g id=\"graph0\" class=\"graph\" transform=\"scale(1 1) rotate(0) translate(4 336.9066)\">\n",
       "<title>%3</title>\n",
       "<polygon fill=\"#ffffff\" stroke=\"transparent\" points=\"-4,4 -4,-336.9066 382.2548,-336.9066 382.2548,4 -4,4\"/>\n",
       "<g id=\"clust1\" class=\"cluster\">\n",
       "<title>cluster21</title>\n",
       "<path fill=\"none\" stroke=\"#000000\" d=\"M20,-8C20,-8 158,-8 158,-8 164,-8 170,-14 170,-20 170,-20 170,-301.93 170,-301.93 170,-307.93 164,-313.93 158,-313.93 158,-313.93 20,-313.93 20,-313.93 14,-313.93 8,-307.93 8,-301.93 8,-301.93 8,-20 8,-20 8,-14 14,-8 20,-8\"/>\n",
       "<text text-anchor=\"middle\" x=\"155\" y=\"-15.8\" font-family=\"Times,serif\" font-size=\"14.00\" fill=\"#000000\">21</text>\n",
       "</g>\n",
       "<g id=\"clust2\" class=\"cluster\">\n",
       "<title>cluster2</title>\n",
       "<path fill=\"none\" stroke=\"#000000\" d=\"M190,-210.9533C190,-210.9533 266,-210.9533 266,-210.9533 272,-210.9533 278,-216.9533 278,-222.9533 278,-222.9533 278,-312.9066 278,-312.9066 278,-318.9066 272,-324.9066 266,-324.9066 266,-324.9066 190,-324.9066 190,-324.9066 184,-324.9066 178,-318.9066 178,-312.9066 178,-312.9066 178,-222.9533 178,-222.9533 178,-216.9533 184,-210.9533 190,-210.9533\"/>\n",
       "<text text-anchor=\"middle\" x=\"266.5\" y=\"-218.7533\" font-family=\"Times,serif\" font-size=\"14.00\" fill=\"#000000\">2</text>\n",
       "</g>\n",
       "<!-- y -->\n",
       "<g id=\"node1\" class=\"node\">\n",
       "<title>y</title>\n",
       "<path fill=\"#d3d3d3\" stroke=\"#000000\" d=\"M104,-92C104,-92 74,-92 74,-92 68,-92 62,-86 62,-80 62,-80 62,-51 62,-51 62,-45 68,-39 74,-39 74,-39 104,-39 104,-39 110,-39 116,-45 116,-51 116,-51 116,-80 116,-80 116,-86 110,-92 104,-92\"/>\n",
       "<text text-anchor=\"middle\" x=\"89\" y=\"-76.8\" font-family=\"Times,serif\" font-size=\"14.00\" fill=\"#000000\">y</text>\n",
       "<text text-anchor=\"middle\" x=\"89\" y=\"-61.8\" font-family=\"Times,serif\" font-size=\"14.00\" fill=\"#000000\">~</text>\n",
       "<text text-anchor=\"middle\" x=\"89\" y=\"-46.8\" font-family=\"Times,serif\" font-size=\"14.00\" fill=\"#000000\">Data</text>\n",
       "</g>\n",
       "<!-- x -->\n",
       "<g id=\"node2\" class=\"node\">\n",
       "<title>x</title>\n",
       "<path fill=\"#d3d3d3\" stroke=\"#000000\" d=\"M104,-305.93C104,-305.93 74,-305.93 74,-305.93 68,-305.93 62,-299.93 62,-293.93 62,-293.93 62,-264.93 62,-264.93 62,-258.93 68,-252.93 74,-252.93 74,-252.93 104,-252.93 104,-252.93 110,-252.93 116,-258.93 116,-264.93 116,-264.93 116,-293.93 116,-293.93 116,-299.93 110,-305.93 104,-305.93\"/>\n",
       "<text text-anchor=\"middle\" x=\"89\" y=\"-290.73\" font-family=\"Times,serif\" font-size=\"14.00\" fill=\"#000000\">x</text>\n",
       "<text text-anchor=\"middle\" x=\"89\" y=\"-275.73\" font-family=\"Times,serif\" font-size=\"14.00\" fill=\"#000000\">~</text>\n",
       "<text text-anchor=\"middle\" x=\"89\" y=\"-260.73\" font-family=\"Times,serif\" font-size=\"14.00\" fill=\"#000000\">Data</text>\n",
       "</g>\n",
       "<!-- observed -->\n",
       "<g id=\"node3\" class=\"node\">\n",
       "<title>observed</title>\n",
       "<ellipse fill=\"#d3d3d3\" stroke=\"#000000\" cx=\"89\" cy=\"-165.4767\" rx=\"72.6644\" ry=\"37.4533\"/>\n",
       "<text text-anchor=\"middle\" x=\"89\" y=\"-176.7767\" font-family=\"Times,serif\" font-size=\"14.00\" fill=\"#000000\">observed</text>\n",
       "<text text-anchor=\"middle\" x=\"89\" y=\"-161.7767\" font-family=\"Times,serif\" font-size=\"14.00\" fill=\"#000000\">~</text>\n",
       "<text text-anchor=\"middle\" x=\"89\" y=\"-146.7767\" font-family=\"Times,serif\" font-size=\"14.00\" fill=\"#000000\">NormalMixture</text>\n",
       "</g>\n",
       "<!-- x&#45;&gt;observed -->\n",
       "<g id=\"edge3\" class=\"edge\">\n",
       "<title>x&#45;&gt;observed</title>\n",
       "<path fill=\"none\" stroke=\"#000000\" d=\"M89,-252.713C89,-240.9706 89,-226.8127 89,-213.3507\"/>\n",
       "<polygon fill=\"#000000\" stroke=\"#000000\" points=\"92.5001,-213.2434 89,-203.2434 85.5001,-213.2434 92.5001,-213.2434\"/>\n",
       "</g>\n",
       "<!-- observed&#45;&gt;y -->\n",
       "<g id=\"edge1\" class=\"edge\">\n",
       "<title>observed&#45;&gt;y</title>\n",
       "<path fill=\"none\" stroke=\"#000000\" d=\"M89,-127.9646C89,-119.6275 89,-110.7957 89,-102.4801\"/>\n",
       "<polygon fill=\"#000000\" stroke=\"#000000\" points=\"92.5001,-102.2991 89,-92.2991 85.5001,-102.2991 92.5001,-102.2991\"/>\n",
       "</g>\n",
       "<!-- slope -->\n",
       "<g id=\"node4\" class=\"node\">\n",
       "<title>slope</title>\n",
       "<ellipse fill=\"none\" stroke=\"#000000\" cx=\"228\" cy=\"-279.43\" rx=\"41.9398\" ry=\"37.4533\"/>\n",
       "<text text-anchor=\"middle\" x=\"228\" y=\"-290.73\" font-family=\"Times,serif\" font-size=\"14.00\" fill=\"#000000\">slope</text>\n",
       "<text text-anchor=\"middle\" x=\"228\" y=\"-275.73\" font-family=\"Times,serif\" font-size=\"14.00\" fill=\"#000000\">~</text>\n",
       "<text text-anchor=\"middle\" x=\"228\" y=\"-260.73\" font-family=\"Times,serif\" font-size=\"14.00\" fill=\"#000000\">Normal</text>\n",
       "</g>\n",
       "<!-- slope&#45;&gt;observed -->\n",
       "<g id=\"edge4\" class=\"edge\">\n",
       "<title>slope&#45;&gt;observed</title>\n",
       "<path fill=\"none\" stroke=\"#000000\" d=\"M206.7802,-247.0641C197.6768,-234.7683 186.3039,-221.2572 174,-210.9533 167.4521,-205.4698 160.1371,-200.3654 152.621,-195.7068\"/>\n",
       "<polygon fill=\"#000000\" stroke=\"#000000\" points=\"154.1272,-192.5311 143.7394,-190.4468 150.5601,-198.5541 154.1272,-192.5311\"/>\n",
       "</g>\n",
       "<!-- intercept -->\n",
       "<g id=\"node5\" class=\"node\">\n",
       "<title>intercept</title>\n",
       "<ellipse fill=\"none\" stroke=\"#000000\" cx=\"333\" cy=\"-279.43\" rx=\"45.011\" ry=\"37.4533\"/>\n",
       "<text text-anchor=\"middle\" x=\"333\" y=\"-290.73\" font-family=\"Times,serif\" font-size=\"14.00\" fill=\"#000000\">intercept</text>\n",
       "<text text-anchor=\"middle\" x=\"333\" y=\"-275.73\" font-family=\"Times,serif\" font-size=\"14.00\" fill=\"#000000\">~</text>\n",
       "<text text-anchor=\"middle\" x=\"333\" y=\"-260.73\" font-family=\"Times,serif\" font-size=\"14.00\" fill=\"#000000\">Normal</text>\n",
       "</g>\n",
       "<!-- intercept&#45;&gt;observed -->\n",
       "<g id=\"edge2\" class=\"edge\">\n",
       "<title>intercept&#45;&gt;observed</title>\n",
       "<path fill=\"none\" stroke=\"#000000\" d=\"M314.2803,-244.9794C305.9277,-232.5511 295.0103,-219.4963 282,-210.9533 263.1397,-198.5689 212.9899,-186.9435 168.5395,-178.547\"/>\n",
       "<polygon fill=\"#000000\" stroke=\"#000000\" points=\"169.0384,-175.08 158.568,-176.6984 167.7624,-181.9627 169.0384,-175.08\"/>\n",
       "</g>\n",
       "</g>\n",
       "</svg>\n"
      ],
      "text/plain": [
       "<graphviz.dot.Digraph at 0x7fc42176e190>"
      ]
     },
     "execution_count": 22,
     "metadata": {},
     "output_type": "execute_result"
    }
   ],
   "source": [
    "pm.model_to_graphviz(scalar_mixture_model)"
   ]
  },
  {
   "cell_type": "code",
   "execution_count": 23,
   "metadata": {
    "slideshow": {
     "slide_type": "subslide"
    }
   },
   "outputs": [
    {
     "data": {
      "image/png": "[encoded data removed]",
      "text/plain": [
       "<Figure size 432x288 with 1 Axes>"
      ]
     },
     "metadata": {
      "needs_background": "light"
     },
     "output_type": "display_data"
    }
   ],
   "source": [
    "fig, ax = plt.subplots(1, 1)\n",
    "ax.plot(x_train1, y_train1, \"-ob\")\n",
    "az.plot_hdi(\n",
    "    x_train1,\n",
    "    scalar_mixture_idata.posterior_predictive[\"observed\"],\n",
    "    ax=ax,\n",
    "    hdi_prob=0.95,\n",
    ")\n",
    "ax.set_xlabel(\"Regressor value\")\n",
    "ax.set_ylabel(\"Observed\")\n",
    "ax.set_title(\"Predictions on training data\");"
   ]
  },
  {
   "cell_type": "markdown",
   "metadata": {
    "slideshow": {
     "slide_type": "slide"
    }
   },
   "source": [
    "### But what happens with the test data?"
   ]
  },
  {
   "cell_type": "code",
   "execution_count": 24,
   "metadata": {
    "slideshow": {
     "slide_type": "fragment"
    }
   },
   "outputs": [
    {
     "data": {
      "text/html": [
       "\n",
       "    <div>\n",
       "        <style>\n",
       "            /* Turns off some styling */\n",
       "            progress {\n",
       "                /* gets rid of default border in Firefox and Opera. */\n",
       "                border: none;\n",
       "                /* Needs to be in here for Safari polyfill so background images work as expected. */\n",
       "                background-size: auto;\n",
       "            }\n",
       "            .progress-bar-interrupted, .progress-bar-interrupted::-webkit-progress-bar {\n",
       "                background: #F44336;\n",
       "            }\n",
       "        </style>\n",
       "      <progress value='0' class='' max='2000', style='width:300px; height:20px; vertical-align: middle;'></progress>\n",
       "      0.00% [0/2000 00:00<00:00]\n",
       "    </div>\n",
       "    "
      ],
      "text/plain": [
       "<IPython.core.display.HTML object>"
      ]
     },
     "metadata": {},
     "output_type": "display_data"
    },
    {
     "name": "stdout",
     "output_type": "stream",
     "text": [
      "ValueError: Cannot broadcast provided shapes (10, 2), (), (21, 2) given size: (1,)\n"
     ]
    }
   ],
   "source": [
    "with scalar_mixture_model:\n",
    "    pm.set_data(\n",
    "        dict(\n",
    "            x=x_test2,\n",
    "            y=y_test2,\n",
    "        )\n",
    "    )\n",
    "    try:\n",
    "        ppc2 = pm.sample_posterior_predictive(scalar_mixture_idata)\n",
    "    except Exception as e:\n",
    "        print(f\"{e.__class__.__name__}: {e}\")"
   ]
  },
  {
   "cell_type": "markdown",
   "metadata": {
    "slideshow": {
     "slide_type": "subslide"
    }
   },
   "source": [
    "### But why?"
   ]
  },
  {
   "cell_type": "code",
   "execution_count": 25,
   "metadata": {
    "slideshow": {
     "slide_type": "fragment"
    }
   },
   "outputs": [
    {
     "data": {
      "image/svg+xml": [
       "<?xml version=\"1.0\" encoding=\"UTF-8\" standalone=\"no\"?>\n",
       "<!DOCTYPE svg PUBLIC \"-//W3C//DTD SVG 1.1//EN\"\n",
       " \"http://www.w3.org/Graphics/SVG/1.1/DTD/svg11.dtd\">\n",
       "<!-- Generated by graphviz version 2.40.1 (20161225.0304)\n",
       " -->\n",
       "<!-- Title: %3 Pages: 1 -->\n",
       "<svg width=\"366pt\" height=\"260pt\"\n",
       " viewBox=\"0.00 0.00 366.25 259.91\" xmlns=\"http://www.w3.org/2000/svg\" xmlns:xlink=\"http://www.w3.org/1999/xlink\">\n",
       "<g id=\"graph0\" class=\"graph\" transform=\"scale(1 1) rotate(0) translate(4 255.9066)\">\n",
       "<title>%3</title>\n",
       "<polygon fill=\"#ffffff\" stroke=\"transparent\" points=\"-4,4 -4,-255.9066 362.2548,-255.9066 362.2548,4 -4,4\"/>\n",
       "<g id=\"clust1\" class=\"cluster\">\n",
       "<title>cluster21</title>\n",
       "<path fill=\"none\" stroke=\"#000000\" d=\"M20,-140.93C20,-140.93 138,-140.93 138,-140.93 144,-140.93 150,-146.93 150,-152.93 150,-152.93 150,-220.93 150,-220.93 150,-226.93 144,-232.93 138,-232.93 138,-232.93 20,-232.93 20,-232.93 14,-232.93 8,-226.93 8,-220.93 8,-220.93 8,-152.93 8,-152.93 8,-146.93 14,-140.93 20,-140.93\"/>\n",
       "<text text-anchor=\"middle\" x=\"135\" y=\"-148.73\" font-family=\"Times,serif\" font-size=\"14.00\" fill=\"#000000\">21</text>\n",
       "</g>\n",
       "<g id=\"clust2\" class=\"cluster\">\n",
       "<title>cluster2</title>\n",
       "<path fill=\"none\" stroke=\"#000000\" d=\"M170,-129.9533C170,-129.9533 246,-129.9533 246,-129.9533 252,-129.9533 258,-135.9533 258,-141.9533 258,-141.9533 258,-231.9066 258,-231.9066 258,-237.9066 252,-243.9066 246,-243.9066 246,-243.9066 170,-243.9066 170,-243.9066 164,-243.9066 158,-237.9066 158,-231.9066 158,-231.9066 158,-141.9533 158,-141.9533 158,-135.9533 164,-129.9533 170,-129.9533\"/>\n",
       "<text text-anchor=\"middle\" x=\"246.5\" y=\"-137.7533\" font-family=\"Times,serif\" font-size=\"14.00\" fill=\"#000000\">2</text>\n",
       "</g>\n",
       "<g id=\"clust3\" class=\"cluster\">\n",
       "<title>cluster10</title>\n",
       "<path fill=\"none\" stroke=\"#000000\" d=\"M77,-8C77,-8 215,-8 215,-8 221,-8 227,-14 227,-20 227,-20 227,-109.9533 227,-109.9533 227,-115.9533 221,-121.9533 215,-121.9533 215,-121.9533 77,-121.9533 77,-121.9533 71,-121.9533 65,-115.9533 65,-109.9533 65,-109.9533 65,-20 65,-20 65,-14 71,-8 77,-8\"/>\n",
       "<text text-anchor=\"middle\" x=\"212\" y=\"-15.8\" font-family=\"Times,serif\" font-size=\"14.00\" fill=\"#000000\">10</text>\n",
       "</g>\n",
       "<!-- y -->\n",
       "<g id=\"node1\" class=\"node\">\n",
       "<title>y</title>\n",
       "<path fill=\"#d3d3d3\" stroke=\"#000000\" d=\"M130,-224.93C130,-224.93 100,-224.93 100,-224.93 94,-224.93 88,-218.93 88,-212.93 88,-212.93 88,-183.93 88,-183.93 88,-177.93 94,-171.93 100,-171.93 100,-171.93 130,-171.93 130,-171.93 136,-171.93 142,-177.93 142,-183.93 142,-183.93 142,-212.93 142,-212.93 142,-218.93 136,-224.93 130,-224.93\"/>\n",
       "<text text-anchor=\"middle\" x=\"115\" y=\"-209.73\" font-family=\"Times,serif\" font-size=\"14.00\" fill=\"#000000\">y</text>\n",
       "<text text-anchor=\"middle\" x=\"115\" y=\"-194.73\" font-family=\"Times,serif\" font-size=\"14.00\" fill=\"#000000\">~</text>\n",
       "<text text-anchor=\"middle\" x=\"115\" y=\"-179.73\" font-family=\"Times,serif\" font-size=\"14.00\" fill=\"#000000\">Data</text>\n",
       "</g>\n",
       "<!-- x -->\n",
       "<g id=\"node2\" class=\"node\">\n",
       "<title>x</title>\n",
       "<path fill=\"#d3d3d3\" stroke=\"#000000\" d=\"M58,-224.93C58,-224.93 28,-224.93 28,-224.93 22,-224.93 16,-218.93 16,-212.93 16,-212.93 16,-183.93 16,-183.93 16,-177.93 22,-171.93 28,-171.93 28,-171.93 58,-171.93 58,-171.93 64,-171.93 70,-177.93 70,-183.93 70,-183.93 70,-212.93 70,-212.93 70,-218.93 64,-224.93 58,-224.93\"/>\n",
       "<text text-anchor=\"middle\" x=\"43\" y=\"-209.73\" font-family=\"Times,serif\" font-size=\"14.00\" fill=\"#000000\">x</text>\n",
       "<text text-anchor=\"middle\" x=\"43\" y=\"-194.73\" font-family=\"Times,serif\" font-size=\"14.00\" fill=\"#000000\">~</text>\n",
       "<text text-anchor=\"middle\" x=\"43\" y=\"-179.73\" font-family=\"Times,serif\" font-size=\"14.00\" fill=\"#000000\">Data</text>\n",
       "</g>\n",
       "<!-- observed -->\n",
       "<g id=\"node5\" class=\"node\">\n",
       "<title>observed</title>\n",
       "<ellipse fill=\"#d3d3d3\" stroke=\"#000000\" cx=\"146\" cy=\"-76.4767\" rx=\"72.6644\" ry=\"37.4533\"/>\n",
       "<text text-anchor=\"middle\" x=\"146\" y=\"-87.7767\" font-family=\"Times,serif\" font-size=\"14.00\" fill=\"#000000\">observed</text>\n",
       "<text text-anchor=\"middle\" x=\"146\" y=\"-72.7767\" font-family=\"Times,serif\" font-size=\"14.00\" fill=\"#000000\">~</text>\n",
       "<text text-anchor=\"middle\" x=\"146\" y=\"-57.7767\" font-family=\"Times,serif\" font-size=\"14.00\" fill=\"#000000\">NormalMixture</text>\n",
       "</g>\n",
       "<!-- x&#45;&gt;observed -->\n",
       "<g id=\"edge3\" class=\"edge\">\n",
       "<title>x&#45;&gt;observed</title>\n",
       "<path fill=\"none\" stroke=\"#000000\" d=\"M53.8385,-171.8375C60.0391,-158.4642 68.6477,-142.4811 79,-129.9533 83.6928,-124.2744 89.0757,-118.7922 94.7065,-113.643\"/>\n",
       "<polygon fill=\"#000000\" stroke=\"#000000\" points=\"97.2664,-116.0543 102.497,-106.8406 92.6623,-110.7815 97.2664,-116.0543\"/>\n",
       "</g>\n",
       "<!-- slope -->\n",
       "<g id=\"node3\" class=\"node\">\n",
       "<title>slope</title>\n",
       "<ellipse fill=\"none\" stroke=\"#000000\" cx=\"208\" cy=\"-198.43\" rx=\"41.9398\" ry=\"37.4533\"/>\n",
       "<text text-anchor=\"middle\" x=\"208\" y=\"-209.73\" font-family=\"Times,serif\" font-size=\"14.00\" fill=\"#000000\">slope</text>\n",
       "<text text-anchor=\"middle\" x=\"208\" y=\"-194.73\" font-family=\"Times,serif\" font-size=\"14.00\" fill=\"#000000\">~</text>\n",
       "<text text-anchor=\"middle\" x=\"208\" y=\"-179.73\" font-family=\"Times,serif\" font-size=\"14.00\" fill=\"#000000\">Normal</text>\n",
       "</g>\n",
       "<!-- slope&#45;&gt;observed -->\n",
       "<g id=\"edge4\" class=\"edge\">\n",
       "<title>slope&#45;&gt;observed</title>\n",
       "<path fill=\"none\" stroke=\"#000000\" d=\"M190.5646,-164.1346C183.9245,-151.0737 176.2502,-135.9785 169.1612,-122.0345\"/>\n",
       "<polygon fill=\"#000000\" stroke=\"#000000\" points=\"172.2559,-120.3985 164.604,-113.0706 166.016,-123.5709 172.2559,-120.3985\"/>\n",
       "</g>\n",
       "<!-- intercept -->\n",
       "<g id=\"node4\" class=\"node\">\n",
       "<title>intercept</title>\n",
       "<ellipse fill=\"none\" stroke=\"#000000\" cx=\"313\" cy=\"-198.43\" rx=\"45.011\" ry=\"37.4533\"/>\n",
       "<text text-anchor=\"middle\" x=\"313\" y=\"-209.73\" font-family=\"Times,serif\" font-size=\"14.00\" fill=\"#000000\">intercept</text>\n",
       "<text text-anchor=\"middle\" x=\"313\" y=\"-194.73\" font-family=\"Times,serif\" font-size=\"14.00\" fill=\"#000000\">~</text>\n",
       "<text text-anchor=\"middle\" x=\"313\" y=\"-179.73\" font-family=\"Times,serif\" font-size=\"14.00\" fill=\"#000000\">Normal</text>\n",
       "</g>\n",
       "<!-- intercept&#45;&gt;observed -->\n",
       "<g id=\"edge2\" class=\"edge\">\n",
       "<title>intercept&#45;&gt;observed</title>\n",
       "<path fill=\"none\" stroke=\"#000000\" d=\"M292.8325,-164.5926C284.4316,-152.5323 273.8594,-139.5692 262,-129.9533 248.3208,-118.8619 231.9657,-109.5057 215.9113,-101.8756\"/>\n",
       "<polygon fill=\"#000000\" stroke=\"#000000\" points=\"217.066,-98.5552 206.5159,-97.5824 214.1567,-104.922 217.066,-98.5552\"/>\n",
       "</g>\n",
       "<!-- observed&#45;&gt;y -->\n",
       "<g id=\"edge1\" class=\"edge\">\n",
       "<title>observed&#45;&gt;y</title>\n",
       "<path fill=\"none\" stroke=\"#000000\" d=\"M136.5084,-113.8163C132.6485,-129.001 128.2005,-146.4995 124.3547,-161.6288\"/>\n",
       "<polygon fill=\"#000000\" stroke=\"#000000\" points=\"120.8746,-161.1127 121.8031,-171.6668 127.6589,-162.8373 120.8746,-161.1127\"/>\n",
       "</g>\n",
       "</g>\n",
       "</svg>\n"
      ],
      "text/plain": [
       "<graphviz.dot.Digraph at 0x7fc42cd2c410>"
      ]
     },
     "execution_count": 25,
     "metadata": {},
     "output_type": "execute_result"
    }
   ],
   "source": [
    "pm.model_to_graphviz(scalar_mixture_model)"
   ]
  },
  {
   "cell_type": "markdown",
   "metadata": {
    "slideshow": {
     "slide_type": "fragment"
    }
   },
   "source": [
    "- __NOT APPARENT FROM THE GRAPH!__\n",
    "- The Mixture's __component distributions shape does not change__\n",
    "- It's set when the distribution is constructed"
   ]
  },
  {
   "cell_type": "markdown",
   "metadata": {
    "slideshow": {
     "slide_type": "slide"
    }
   },
   "source": [
    "### What to do?"
   ]
  },
  {
   "cell_type": "markdown",
   "metadata": {
    "slideshow": {
     "slide_type": "fragment"
    }
   },
   "source": [
    "![Try not to cry](https://i.kym-cdn.com/entries/icons/original/000/012/073/7686178464_fdc8ea66c7.jpg)\n",
    "\n",
    "### Or..."
   ]
  },
  {
   "cell_type": "markdown",
   "metadata": {
    "slideshow": {
     "slide_type": "slide"
    }
   },
   "source": [
    "## Functional approach"
   ]
  },
  {
   "cell_type": "markdown",
   "metadata": {
    "slideshow": {
     "slide_type": "-"
    }
   },
   "source": [
    "### We need to define a factory function to make models on new data\n",
    "\n",
    "Pros:\n",
    "\n",
    "- We can work around shape problems for posterior predictive sampling\n",
    "- Can change any aspect of the model based on new data\n",
    "\n",
    "Cons:\n",
    "\n",
    "- Manual tunning\n",
    "- Repeated model compilation\n",
    "- Potential need to remove entries from posterior trace\n",
    "- Added overhead of plotting\n",
    "- __We shouldn't have to do this...__"
   ]
  },
  {
   "cell_type": "code",
   "execution_count": 26,
   "metadata": {
    "slideshow": {
     "slide_type": "slide"
    }
   },
   "outputs": [],
   "source": [
    "def scalar_mixture_model_factory(coords, x, y):\n",
    "    with pm.Model(coords=coords) as model:\n",
    "        regressor = pm.Data(\"x\", x, dims=\"obs_ind\")\n",
    "        slope = pm.Normal(\"slope\", 0, 10, dims=\"component\")\n",
    "        intercept = pm.Normal(\"intercept\", 0, 10)\n",
    "        mu = slope * regressor[..., None] + intercept\n",
    "        output = pm.Data(\"y\", y)\n",
    "        observed = pm.NormalMixture(\n",
    "            \"observed\",\n",
    "            w=component_probability,\n",
    "            mu=mu,\n",
    "            sigma=1,\n",
    "            observed=output,\n",
    "            comp_shape=(len(x), n_components),\n",
    "            dims=\"obs_ind\",\n",
    "        )\n",
    "    return model"
   ]
  },
  {
   "cell_type": "code",
   "execution_count": 27,
   "metadata": {
    "slideshow": {
     "slide_type": "fragment"
    }
   },
   "outputs": [
    {
     "name": "stderr",
     "output_type": "stream",
     "text": [
      "Auto-assigning NUTS sampler...\n",
      "Initializing NUTS using jitter+adapt_diag...\n",
      "Multiprocess sampling (2 chains in 2 jobs)\n",
      "NUTS: [intercept, slope]\n"
     ]
    },
    {
     "data": {
      "text/html": [
       "\n",
       "    <div>\n",
       "        <style>\n",
       "            /* Turns off some styling */\n",
       "            progress {\n",
       "                /* gets rid of default border in Firefox and Opera. */\n",
       "                border: none;\n",
       "                /* Needs to be in here for Safari polyfill so background images work as expected. */\n",
       "                background-size: auto;\n",
       "            }\n",
       "            .progress-bar-interrupted, .progress-bar-interrupted::-webkit-progress-bar {\n",
       "                background: #F44336;\n",
       "            }\n",
       "        </style>\n",
       "      <progress value='8000' class='' max='8000', style='width:300px; height:20px; vertical-align: middle;'></progress>\n",
       "      100.00% [8000/8000 00:05<00:00 Sampling 2 chains, 0 divergences]\n",
       "    </div>\n",
       "    "
      ],
      "text/plain": [
       "<IPython.core.display.HTML object>"
      ]
     },
     "metadata": {},
     "output_type": "display_data"
    },
    {
     "name": "stderr",
     "output_type": "stream",
     "text": [
      "Sampling 2 chains for 3_000 tune and 1_000 draw iterations (6_000 + 2_000 draws total) took 6 seconds.\n",
      "The rhat statistic is larger than 1.4 for some parameters. The sampler did not converge.\n",
      "The estimated number of effective samples is smaller than 200 for some parameters.\n"
     ]
    }
   ],
   "source": [
    "with scalar_mixture_model_factory(coords2, x_train2, y_train2):\n",
    "    prior = pm.sample_prior_predictive()\n",
    "    trace = pm.sample(tune=3000)\n",
    "    ppc = pm.fast_sample_posterior_predictive(trace)\n",
    "    scalar_mixture_idata = az.from_pymc3(trace=trace, prior=prior, posterior_predictive=ppc)"
   ]
  },
  {
   "cell_type": "code",
   "execution_count": 28,
   "metadata": {
    "slideshow": {
     "slide_type": "subslide"
    }
   },
   "outputs": [
    {
     "data": {
      "image/png": "[encoded data removed]",
      "text/plain": [
       "<Figure size 432x288 with 1 Axes>"
      ]
     },
     "metadata": {
      "needs_background": "light"
     },
     "output_type": "display_data"
    }
   ],
   "source": [
    "fig, ax = plt.subplots(1, 1)\n",
    "ax.plot(x_train1, y_train1, \"-ob\")\n",
    "az.plot_hdi(\n",
    "    x_train1,\n",
    "    scalar_mixture_idata.posterior_predictive[\"observed\"],\n",
    "    ax=ax,\n",
    "    hdi_prob=0.95,\n",
    ")\n",
    "ax.set_xlabel(\"Regressor value\")\n",
    "ax.set_ylabel(\"Observed\")\n",
    "ax.set_title(\"Predictions on training data\");"
   ]
  },
  {
   "cell_type": "code",
   "execution_count": 29,
   "metadata": {
    "slideshow": {
     "slide_type": "subslide"
    }
   },
   "outputs": [
    {
     "name": "stderr",
     "output_type": "stream",
     "text": [
      "/home/lpaz/anaconda3/lib/python3.7/site-packages/arviz/stats/stats.py:487: FutureWarning: hdi currently interprets 2d data as (draw, shape) but this will change in a future release to (chain, draw) for coherence with other functions\n",
      "  FutureWarning,\n"
     ]
    },
    {
     "data": {
      "image/png": "[encoded data removed]",
      "text/plain": [
       "<Figure size 432x288 with 1 Axes>"
      ]
     },
     "metadata": {
      "needs_background": "light"
     },
     "output_type": "display_data"
    }
   ],
   "source": [
    "coords3 = coords2.copy()\n",
    "coords3[\"obs_ind\"] = np.arange(len(x_test2))\n",
    "with scalar_mixture_model_factory(coords3, x_test2, y_test2):\n",
    "    ppc = pm.fast_sample_posterior_predictive(trace)\n",
    "\n",
    "fig, ax = plt.subplots(1, 1)\n",
    "ax.plot(x_test2, y_test2, \"-ob\")\n",
    "az.plot_hdi(\n",
    "    x_test2,\n",
    "    ppc[\"observed\"],\n",
    "    ax=ax,\n",
    "    hdi_prob=0.95,\n",
    ")\n",
    "ax.set_xlabel(\"Regressor value\")\n",
    "ax.set_ylabel(\"Observed\")\n",
    "ax.set_title(\"Predictions on test data\");"
   ]
  },
  {
   "cell_type": "code",
   "execution_count": null,
   "metadata": {},
   "outputs": [],
   "source": []
  }
 ],
 "metadata": {
  "celltoolbar": "Slideshow",
  "kernelspec": {
   "display_name": "Python 3",
   "language": "python",
   "name": "python3"
  },
  "language_info": {
   "codemirror_mode": {
    "name": "ipython",
    "version": 3
   },
   "file_extension": ".py",
   "mimetype": "text/x-python",
   "name": "python",
   "nbconvert_exporter": "python",
   "pygments_lexer": "ipython3",
   "version": "3.7.6"
  }
 },
 "nbformat": 4,
 "nbformat_minor": 4
}
